{
 "cells": [
  {
   "cell_type": "markdown",
   "metadata": {},
   "source": [
    "# First Setup"
   ]
  },
  {
   "cell_type": "code",
   "execution_count": 102,
   "metadata": {},
   "outputs": [],
   "source": [
    "import time\n",
    "import anki_vector\n",
    "from anki_vector.util import degrees, distance_mm, speed_mmps, Angle, Pose"
   ]
  },
  {
   "cell_type": "markdown",
   "metadata": {},
   "source": [
    "Setup and connect to robot"
   ]
  },
  {
   "cell_type": "code",
   "execution_count": 103,
   "metadata": {},
   "outputs": [
    {
     "name": "stderr",
     "output_type": "stream",
     "text": [
      "22:16:45.869               robot.Robot WARNING  No serial number or name provided. Automatically selecting 00803c3b\n"
     ]
    }
   ],
   "source": [
    "robot = anki_vector.Robot(ip=\"192.168.0.17\",\n",
    "                       show_viewer=True,\n",
    "                       show_3d_viewer=True,\n",
    "                       enable_face_detection=True,\n",
    "                       enable_custom_object_detection=True,\n",
    "                       enable_nav_map_feed=True)\n",
    "\n"
   ]
  },
  {
   "cell_type": "code",
   "execution_count": 104,
   "metadata": {},
   "outputs": [
    {
     "name": "stderr",
     "output_type": "stream",
     "text": [
      "22:16:46.848     connection.Connection    INFO  Connecting to 192.168.0.17:443 for Vector-M7Y9 using C:\\Users\\MoC19\\.anki_vector\\Vector-M7Y9-00803c3b.cert\n"
     ]
    },
    {
     "ename": "VectorControlTimeoutException",
     "evalue": "Failed to get control of Vector.\n\nPlease verify that Vector is connected to the internet, is on a flat surface, and is fully charged.\n\n\nSurpassed timeout of 10s",
     "output_type": "error",
     "traceback": [
      "\u001b[1;31m---------------------------------------------------------------------------\u001b[0m",
      "\u001b[1;31mTimeoutError\u001b[0m                              Traceback (most recent call last)",
      "\u001b[1;32m~\\AppData\\Roaming\\Python\\Python37\\site-packages\\anki_vector\\connection.py\u001b[0m in \u001b[0;36m_request_control\u001b[1;34m(self, behavior_control_level, timeout)\u001b[0m\n\u001b[0;32m    405\u001b[0m         \u001b[1;32mtry\u001b[0m\u001b[1;33m:\u001b[0m\u001b[1;33m\u001b[0m\u001b[1;33m\u001b[0m\u001b[0m\n\u001b[1;32m--> 406\u001b[1;33m             \u001b[0mself\u001b[0m\u001b[1;33m.\u001b[0m\u001b[0m_has_control\u001b[0m \u001b[1;33m=\u001b[0m \u001b[1;32mawait\u001b[0m \u001b[0masyncio\u001b[0m\u001b[1;33m.\u001b[0m\u001b[0mwait_for\u001b[0m\u001b[1;33m(\u001b[0m\u001b[0mself\u001b[0m\u001b[1;33m.\u001b[0m\u001b[0mcontrol_granted_event\u001b[0m\u001b[1;33m.\u001b[0m\u001b[0mwait\u001b[0m\u001b[1;33m(\u001b[0m\u001b[1;33m)\u001b[0m\u001b[1;33m,\u001b[0m \u001b[0mtimeout\u001b[0m\u001b[1;33m)\u001b[0m\u001b[1;33m\u001b[0m\u001b[1;33m\u001b[0m\u001b[0m\n\u001b[0m\u001b[0;32m    407\u001b[0m         \u001b[1;32mexcept\u001b[0m \u001b[0mfutures\u001b[0m\u001b[1;33m.\u001b[0m\u001b[0mTimeoutError\u001b[0m \u001b[1;32mas\u001b[0m \u001b[0me\u001b[0m\u001b[1;33m:\u001b[0m\u001b[1;33m\u001b[0m\u001b[1;33m\u001b[0m\u001b[0m\n",
      "\u001b[1;32m~\\Anaconda3\\lib\\asyncio\\tasks.py\u001b[0m in \u001b[0;36mwait_for\u001b[1;34m(fut, timeout, loop)\u001b[0m\n\u001b[0;32m    448\u001b[0m             \u001b[1;32mawait\u001b[0m \u001b[0m_cancel_and_wait\u001b[0m\u001b[1;33m(\u001b[0m\u001b[0mfut\u001b[0m\u001b[1;33m,\u001b[0m \u001b[0mloop\u001b[0m\u001b[1;33m=\u001b[0m\u001b[0mloop\u001b[0m\u001b[1;33m)\u001b[0m\u001b[1;33m\u001b[0m\u001b[1;33m\u001b[0m\u001b[0m\n\u001b[1;32m--> 449\u001b[1;33m             \u001b[1;32mraise\u001b[0m \u001b[0mfutures\u001b[0m\u001b[1;33m.\u001b[0m\u001b[0mTimeoutError\u001b[0m\u001b[1;33m(\u001b[0m\u001b[1;33m)\u001b[0m\u001b[1;33m\u001b[0m\u001b[1;33m\u001b[0m\u001b[0m\n\u001b[0m\u001b[0;32m    450\u001b[0m     \u001b[1;32mfinally\u001b[0m\u001b[1;33m:\u001b[0m\u001b[1;33m\u001b[0m\u001b[1;33m\u001b[0m\u001b[0m\n",
      "\u001b[1;31mTimeoutError\u001b[0m: ",
      "\nThe above exception was the direct cause of the following exception:\n",
      "\u001b[1;31mVectorControlTimeoutException\u001b[0m             Traceback (most recent call last)",
      "\u001b[1;32m<ipython-input-104-bf275d115ec6>\u001b[0m in \u001b[0;36m<module>\u001b[1;34m\u001b[0m\n\u001b[1;32m----> 1\u001b[1;33m \u001b[0mrobot\u001b[0m\u001b[1;33m.\u001b[0m\u001b[0mconnect\u001b[0m\u001b[1;33m(\u001b[0m\u001b[1;33m)\u001b[0m\u001b[1;33m\u001b[0m\u001b[1;33m\u001b[0m\u001b[0m\n\u001b[0m",
      "\u001b[1;32m~\\AppData\\Roaming\\Python\\Python37\\site-packages\\anki_vector\\robot.py\u001b[0m in \u001b[0;36mconnect\u001b[1;34m(self, timeout)\u001b[0m\n\u001b[0;32m    639\u001b[0m             \u001b[1;33m:\u001b[0m\u001b[1;32mclass\u001b[0m\u001b[1;33m:\u001b[0m\u001b[0;31m`\u001b[0m\u001b[0manki_vector\u001b[0m\u001b[1;33m.\u001b[0m\u001b[0mexceptions\u001b[0m\u001b[1;33m.\u001b[0m\u001b[0mVectorTimeoutException\u001b[0m\u001b[0;31m`\u001b[0m \u001b[1;32mis\u001b[0m \u001b[0mraised\u001b[0m\u001b[1;33m.\u001b[0m\u001b[1;33m\u001b[0m\u001b[1;33m\u001b[0m\u001b[0m\n\u001b[0;32m    640\u001b[0m         \"\"\"\n\u001b[1;32m--> 641\u001b[1;33m         \u001b[0mself\u001b[0m\u001b[1;33m.\u001b[0m\u001b[0mconn\u001b[0m\u001b[1;33m.\u001b[0m\u001b[0mconnect\u001b[0m\u001b[1;33m(\u001b[0m\u001b[0mtimeout\u001b[0m\u001b[1;33m=\u001b[0m\u001b[0mtimeout\u001b[0m\u001b[1;33m)\u001b[0m\u001b[1;33m\u001b[0m\u001b[1;33m\u001b[0m\u001b[0m\n\u001b[0m\u001b[0;32m    642\u001b[0m         \u001b[0mself\u001b[0m\u001b[1;33m.\u001b[0m\u001b[0mevents\u001b[0m\u001b[1;33m.\u001b[0m\u001b[0mstart\u001b[0m\u001b[1;33m(\u001b[0m\u001b[0mself\u001b[0m\u001b[1;33m.\u001b[0m\u001b[0mconn\u001b[0m\u001b[1;33m)\u001b[0m\u001b[1;33m\u001b[0m\u001b[1;33m\u001b[0m\u001b[0m\n\u001b[0;32m    643\u001b[0m \u001b[1;33m\u001b[0m\u001b[0m\n",
      "\u001b[1;32m~\\AppData\\Roaming\\Python\\Python37\\site-packages\\anki_vector\\connection.py\u001b[0m in \u001b[0;36mconnect\u001b[1;34m(self, timeout)\u001b[0m\n\u001b[0;32m    473\u001b[0m             \u001b[0me\u001b[0m \u001b[1;33m=\u001b[0m \u001b[0mgetattr\u001b[0m\u001b[1;33m(\u001b[0m\u001b[0mself\u001b[0m\u001b[1;33m.\u001b[0m\u001b[0m_ready_signal\u001b[0m\u001b[1;33m,\u001b[0m \u001b[1;34m\"exception\"\u001b[0m\u001b[1;33m)\u001b[0m\u001b[1;33m\u001b[0m\u001b[1;33m\u001b[0m\u001b[0m\n\u001b[0;32m    474\u001b[0m             \u001b[0mdelattr\u001b[0m\u001b[1;33m(\u001b[0m\u001b[0mself\u001b[0m\u001b[1;33m.\u001b[0m\u001b[0m_ready_signal\u001b[0m\u001b[1;33m,\u001b[0m \u001b[1;34m\"exception\"\u001b[0m\u001b[1;33m)\u001b[0m\u001b[1;33m\u001b[0m\u001b[1;33m\u001b[0m\u001b[0m\n\u001b[1;32m--> 475\u001b[1;33m             \u001b[1;32mraise\u001b[0m \u001b[0me\u001b[0m\u001b[1;33m\u001b[0m\u001b[1;33m\u001b[0m\u001b[0m\n\u001b[0m\u001b[0;32m    476\u001b[0m \u001b[1;33m\u001b[0m\u001b[0m\n\u001b[0;32m    477\u001b[0m     \u001b[1;32mdef\u001b[0m \u001b[0m_connect\u001b[0m\u001b[1;33m(\u001b[0m\u001b[0mself\u001b[0m\u001b[1;33m,\u001b[0m \u001b[0mtimeout\u001b[0m\u001b[1;33m:\u001b[0m \u001b[0mfloat\u001b[0m\u001b[1;33m)\u001b[0m \u001b[1;33m->\u001b[0m \u001b[1;32mNone\u001b[0m\u001b[1;33m:\u001b[0m\u001b[1;33m\u001b[0m\u001b[1;33m\u001b[0m\u001b[0m\n",
      "\u001b[1;32m~\\AppData\\Roaming\\Python\\Python37\\site-packages\\anki_vector\\connection.py\u001b[0m in \u001b[0;36m_connect\u001b[1;34m(self, timeout)\u001b[0m\n\u001b[0;32m    535\u001b[0m \u001b[1;33m\u001b[0m\u001b[0m\n\u001b[0;32m    536\u001b[0m             \u001b[1;32mif\u001b[0m \u001b[0mself\u001b[0m\u001b[1;33m.\u001b[0m\u001b[0m_behavior_control_level\u001b[0m\u001b[1;33m:\u001b[0m\u001b[1;33m\u001b[0m\u001b[1;33m\u001b[0m\u001b[0m\n\u001b[1;32m--> 537\u001b[1;33m                 \u001b[0mself\u001b[0m\u001b[1;33m.\u001b[0m\u001b[0m_loop\u001b[0m\u001b[1;33m.\u001b[0m\u001b[0mrun_until_complete\u001b[0m\u001b[1;33m(\u001b[0m\u001b[0mself\u001b[0m\u001b[1;33m.\u001b[0m\u001b[0m_request_control\u001b[0m\u001b[1;33m(\u001b[0m\u001b[0mbehavior_control_level\u001b[0m\u001b[1;33m=\u001b[0m\u001b[0mself\u001b[0m\u001b[1;33m.\u001b[0m\u001b[0m_behavior_control_level\u001b[0m\u001b[1;33m,\u001b[0m \u001b[0mtimeout\u001b[0m\u001b[1;33m=\u001b[0m\u001b[0mtimeout\u001b[0m\u001b[1;33m)\u001b[0m\u001b[1;33m)\u001b[0m\u001b[1;33m\u001b[0m\u001b[1;33m\u001b[0m\u001b[0m\n\u001b[0m\u001b[0;32m    538\u001b[0m         \u001b[1;32mexcept\u001b[0m \u001b[0mException\u001b[0m \u001b[1;32mas\u001b[0m \u001b[0me\u001b[0m\u001b[1;33m:\u001b[0m  \u001b[1;31m# pylint: disable=broad-except\u001b[0m\u001b[1;33m\u001b[0m\u001b[1;33m\u001b[0m\u001b[0m\n\u001b[0;32m    539\u001b[0m             \u001b[1;31m# Propagate the errors to the calling thread\u001b[0m\u001b[1;33m\u001b[0m\u001b[1;33m\u001b[0m\u001b[1;33m\u001b[0m\u001b[0m\n",
      "\u001b[1;32m~\\Anaconda3\\lib\\asyncio\\base_events.py\u001b[0m in \u001b[0;36mrun_until_complete\u001b[1;34m(self, future)\u001b[0m\n\u001b[0;32m    577\u001b[0m             \u001b[1;32mraise\u001b[0m \u001b[0mRuntimeError\u001b[0m\u001b[1;33m(\u001b[0m\u001b[1;34m'Event loop stopped before Future completed.'\u001b[0m\u001b[1;33m)\u001b[0m\u001b[1;33m\u001b[0m\u001b[1;33m\u001b[0m\u001b[0m\n\u001b[0;32m    578\u001b[0m \u001b[1;33m\u001b[0m\u001b[0m\n\u001b[1;32m--> 579\u001b[1;33m         \u001b[1;32mreturn\u001b[0m \u001b[0mfuture\u001b[0m\u001b[1;33m.\u001b[0m\u001b[0mresult\u001b[0m\u001b[1;33m(\u001b[0m\u001b[1;33m)\u001b[0m\u001b[1;33m\u001b[0m\u001b[1;33m\u001b[0m\u001b[0m\n\u001b[0m\u001b[0;32m    580\u001b[0m \u001b[1;33m\u001b[0m\u001b[0m\n\u001b[0;32m    581\u001b[0m     \u001b[1;32mdef\u001b[0m \u001b[0mstop\u001b[0m\u001b[1;33m(\u001b[0m\u001b[0mself\u001b[0m\u001b[1;33m)\u001b[0m\u001b[1;33m:\u001b[0m\u001b[1;33m\u001b[0m\u001b[1;33m\u001b[0m\u001b[0m\n",
      "\u001b[1;32m~\\AppData\\Roaming\\Python\\Python37\\site-packages\\anki_vector\\connection.py\u001b[0m in \u001b[0;36m_request_control\u001b[1;34m(self, behavior_control_level, timeout)\u001b[0m\n\u001b[0;32m    406\u001b[0m             \u001b[0mself\u001b[0m\u001b[1;33m.\u001b[0m\u001b[0m_has_control\u001b[0m \u001b[1;33m=\u001b[0m \u001b[1;32mawait\u001b[0m \u001b[0masyncio\u001b[0m\u001b[1;33m.\u001b[0m\u001b[0mwait_for\u001b[0m\u001b[1;33m(\u001b[0m\u001b[0mself\u001b[0m\u001b[1;33m.\u001b[0m\u001b[0mcontrol_granted_event\u001b[0m\u001b[1;33m.\u001b[0m\u001b[0mwait\u001b[0m\u001b[1;33m(\u001b[0m\u001b[1;33m)\u001b[0m\u001b[1;33m,\u001b[0m \u001b[0mtimeout\u001b[0m\u001b[1;33m)\u001b[0m\u001b[1;33m\u001b[0m\u001b[1;33m\u001b[0m\u001b[0m\n\u001b[0;32m    407\u001b[0m         \u001b[1;32mexcept\u001b[0m \u001b[0mfutures\u001b[0m\u001b[1;33m.\u001b[0m\u001b[0mTimeoutError\u001b[0m \u001b[1;32mas\u001b[0m \u001b[0me\u001b[0m\u001b[1;33m:\u001b[0m\u001b[1;33m\u001b[0m\u001b[1;33m\u001b[0m\u001b[0m\n\u001b[1;32m--> 408\u001b[1;33m             \u001b[1;32mraise\u001b[0m \u001b[0mVectorControlTimeoutException\u001b[0m\u001b[1;33m(\u001b[0m\u001b[1;34mf\"Surpassed timeout of {timeout}s\"\u001b[0m\u001b[1;33m)\u001b[0m \u001b[1;32mfrom\u001b[0m \u001b[0me\u001b[0m\u001b[1;33m\u001b[0m\u001b[1;33m\u001b[0m\u001b[0m\n\u001b[0m\u001b[0;32m    409\u001b[0m \u001b[1;33m\u001b[0m\u001b[0m\n\u001b[0;32m    410\u001b[0m     \u001b[1;32mdef\u001b[0m \u001b[0mrelease_control\u001b[0m\u001b[1;33m(\u001b[0m\u001b[0mself\u001b[0m\u001b[1;33m,\u001b[0m \u001b[0mtimeout\u001b[0m\u001b[1;33m:\u001b[0m \u001b[0mfloat\u001b[0m \u001b[1;33m=\u001b[0m \u001b[1;36m10.0\u001b[0m\u001b[1;33m)\u001b[0m\u001b[1;33m:\u001b[0m\u001b[1;33m\u001b[0m\u001b[1;33m\u001b[0m\u001b[0m\n",
      "\u001b[1;31mVectorControlTimeoutException\u001b[0m: Failed to get control of Vector.\n\nPlease verify that Vector is connected to the internet, is on a flat surface, and is fully charged.\n\n\nSurpassed timeout of 10s"
     ]
    },
    {
     "name": "stderr",
     "output_type": "stream",
     "text": [
      "exception calling callback for <Future at 0x18fa996d088 state=finished returned BehaviorControlResponse>\n",
      "Traceback (most recent call last):\n",
      "  File \"C:\\Users\\MoC19\\Anaconda3\\lib\\concurrent\\futures\\_base.py\", line 324, in _invoke_callbacks\n",
      "    callback(self)\n",
      "  File \"C:\\Users\\MoC19\\Anaconda3\\lib\\asyncio\\futures.py\", line 362, in _call_set_state\n",
      "    dest_loop.call_soon_threadsafe(_set_state, destination, source)\n",
      "  File \"C:\\Users\\MoC19\\Anaconda3\\lib\\asyncio\\base_events.py\", line 728, in call_soon_threadsafe\n",
      "    self._check_closed()\n",
      "  File \"C:\\Users\\MoC19\\Anaconda3\\lib\\asyncio\\base_events.py\", line 475, in _check_closed\n",
      "    raise RuntimeError('Event loop is closed')\n",
      "RuntimeError: Event loop is closed\n"
     ]
    }
   ],
   "source": [
    "robot.connect()\n"
   ]
  },
  {
   "cell_type": "markdown",
   "metadata": {},
   "source": [
    "Test connection"
   ]
  },
  {
   "cell_type": "code",
   "execution_count": null,
   "metadata": {},
   "outputs": [],
   "source": [
    "robot.behavior.say_text(\"Hello\")"
   ]
  },
  {
   "cell_type": "markdown",
   "metadata": {},
   "source": [
    "Test proximity sensor"
   ]
  },
  {
   "cell_type": "code",
   "execution_count": 60,
   "metadata": {},
   "outputs": [
    {
     "name": "stdout",
     "output_type": "stream",
     "text": [
      "Distance:  <Distance 317.00 mm (12.48 inches)>\n",
      "Distance (mm):  317.0\n"
     ]
    }
   ],
   "source": [
    "distance = robot.proximity.last_sensor_reading.distance\n",
    "print (\"Distance: \", distance)\n",
    "print (\"Distance (mm): \", distance.distance_mm)"
   ]
  },
  {
   "cell_type": "markdown",
   "metadata": {},
   "source": [
    "Stop 5cm in front of obstacle"
   ]
  },
  {
   "cell_type": "code",
   "execution_count": null,
   "metadata": {},
   "outputs": [],
   "source": [
    "robot.behavior.drive_straight(distance_mm(100), speed_mmps(100))"
   ]
  },
  {
   "cell_type": "code",
   "execution_count": null,
   "metadata": {},
   "outputs": [],
   "source": [
    "while robot.proximity.last_sensor_reading.distance.distance_mm > 100:\n",
    "  print(robot.proximity.last_sensor_reading.distance.distance_mm)\n",
    "  robot.behavior.drive_straight(distance_mm(30), speed_mmps(100))\n",
    "print (\"Fertig! Abstand: \", robot.proximity.last_sensor_reading.distance.distance_mm)"
   ]
  },
  {
   "cell_type": "markdown",
   "metadata": {},
   "source": [
    "Automatisches Abstand halten zur Wand"
   ]
  },
  {
   "cell_type": "code",
   "execution_count": 21,
   "metadata": {},
   "outputs": [
    {
     "name": "stdout",
     "output_type": "stream",
     "text": [
      "156.0\n",
      "153.0\n",
      "151.0\n",
      "160.0\n",
      "155.0\n",
      "158.0\n",
      "159.0\n",
      "160.0\n",
      "160.0\n",
      "152.0\n",
      "149.0\n",
      "138.0\n",
      "166.0\n",
      "171.0\n",
      "170.0\n",
      "166.0\n",
      "156.0\n",
      "146.0\n"
     ]
    },
    {
     "ename": "KeyboardInterrupt",
     "evalue": "",
     "output_type": "error",
     "traceback": [
      "\u001b[1;31m---------------------------------------------------------------------------\u001b[0m",
      "\u001b[1;31mKeyboardInterrupt\u001b[0m                         Traceback (most recent call last)",
      "\u001b[1;32m<ipython-input-21-77f46bf1b8ea>\u001b[0m in \u001b[0;36m<module>\u001b[1;34m\u001b[0m\n\u001b[0;32m     12\u001b[0m \u001b[1;33m\u001b[0m\u001b[0m\n\u001b[0;32m     13\u001b[0m   \u001b[1;32mif\u001b[0m \u001b[1;33m(\u001b[0m\u001b[1;33m(\u001b[0m\u001b[0mref_distance\u001b[0m \u001b[1;33m-\u001b[0m \u001b[0mdistance\u001b[0m\u001b[1;33m)\u001b[0m\u001b[1;33m>\u001b[0m\u001b[1;36m0\u001b[0m\u001b[1;33m)\u001b[0m\u001b[1;33m:\u001b[0m\u001b[1;33m\u001b[0m\u001b[1;33m\u001b[0m\u001b[0m\n\u001b[1;32m---> 14\u001b[1;33m     \u001b[0mrobot\u001b[0m\u001b[1;33m.\u001b[0m\u001b[0mbehavior\u001b[0m\u001b[1;33m.\u001b[0m\u001b[0mturn_in_place\u001b[0m\u001b[1;33m(\u001b[0m\u001b[0mdegrees\u001b[0m\u001b[1;33m(\u001b[0m\u001b[1;36m93\u001b[0m\u001b[1;33m)\u001b[0m\u001b[1;33m)\u001b[0m\u001b[1;33m\u001b[0m\u001b[1;33m\u001b[0m\u001b[0m\n\u001b[0m\u001b[0;32m     15\u001b[0m   \u001b[1;32melse\u001b[0m\u001b[1;33m:\u001b[0m\u001b[1;33m\u001b[0m\u001b[1;33m\u001b[0m\u001b[0m\n\u001b[0;32m     16\u001b[0m     \u001b[0mrobot\u001b[0m\u001b[1;33m.\u001b[0m\u001b[0mbehavior\u001b[0m\u001b[1;33m.\u001b[0m\u001b[0mturn_in_place\u001b[0m\u001b[1;33m(\u001b[0m\u001b[0mdegrees\u001b[0m\u001b[1;33m(\u001b[0m\u001b[1;36m87\u001b[0m\u001b[1;33m)\u001b[0m\u001b[1;33m)\u001b[0m\u001b[1;33m\u001b[0m\u001b[1;33m\u001b[0m\u001b[0m\n",
      "\u001b[1;32m~\\AppData\\Roaming\\Python\\Python37\\site-packages\\anki_vector\\connection.py\u001b[0m in \u001b[0;36mresult\u001b[1;34m(*args, **kwargs)\u001b[0m\n\u001b[0;32m    804\u001b[0m                 \u001b[1;32mreturn\u001b[0m \u001b[0mfuture\u001b[0m\u001b[1;33m\u001b[0m\u001b[1;33m\u001b[0m\u001b[0m\n\u001b[0;32m    805\u001b[0m             \u001b[1;32mtry\u001b[0m\u001b[1;33m:\u001b[0m\u001b[1;33m\u001b[0m\u001b[1;33m\u001b[0m\u001b[0m\n\u001b[1;32m--> 806\u001b[1;33m                 \u001b[1;32mreturn\u001b[0m \u001b[0mfuture\u001b[0m\u001b[1;33m.\u001b[0m\u001b[0mresult\u001b[0m\u001b[1;33m(\u001b[0m\u001b[1;33m)\u001b[0m\u001b[1;33m\u001b[0m\u001b[1;33m\u001b[0m\u001b[0m\n\u001b[0m\u001b[0;32m    807\u001b[0m             \u001b[1;32mexcept\u001b[0m \u001b[0mfutures\u001b[0m\u001b[1;33m.\u001b[0m\u001b[0mCancelledError\u001b[0m\u001b[1;33m:\u001b[0m\u001b[1;33m\u001b[0m\u001b[1;33m\u001b[0m\u001b[0m\n\u001b[0;32m    808\u001b[0m                 \u001b[0mself\u001b[0m\u001b[1;33m.\u001b[0m\u001b[0mlogger\u001b[0m\u001b[1;33m.\u001b[0m\u001b[0mwarning\u001b[0m\u001b[1;33m(\u001b[0m\u001b[1;34mf\"{func.__name__} cancelled because behavior control was lost\"\u001b[0m\u001b[1;33m)\u001b[0m\u001b[1;33m\u001b[0m\u001b[1;33m\u001b[0m\u001b[0m\n",
      "\u001b[1;32m~\\Anaconda3\\lib\\concurrent\\futures\\_base.py\u001b[0m in \u001b[0;36mresult\u001b[1;34m(self, timeout)\u001b[0m\n\u001b[0;32m    428\u001b[0m                 \u001b[1;32mreturn\u001b[0m \u001b[0mself\u001b[0m\u001b[1;33m.\u001b[0m\u001b[0m__get_result\u001b[0m\u001b[1;33m(\u001b[0m\u001b[1;33m)\u001b[0m\u001b[1;33m\u001b[0m\u001b[1;33m\u001b[0m\u001b[0m\n\u001b[0;32m    429\u001b[0m \u001b[1;33m\u001b[0m\u001b[0m\n\u001b[1;32m--> 430\u001b[1;33m             \u001b[0mself\u001b[0m\u001b[1;33m.\u001b[0m\u001b[0m_condition\u001b[0m\u001b[1;33m.\u001b[0m\u001b[0mwait\u001b[0m\u001b[1;33m(\u001b[0m\u001b[0mtimeout\u001b[0m\u001b[1;33m)\u001b[0m\u001b[1;33m\u001b[0m\u001b[1;33m\u001b[0m\u001b[0m\n\u001b[0m\u001b[0;32m    431\u001b[0m \u001b[1;33m\u001b[0m\u001b[0m\n\u001b[0;32m    432\u001b[0m             \u001b[1;32mif\u001b[0m \u001b[0mself\u001b[0m\u001b[1;33m.\u001b[0m\u001b[0m_state\u001b[0m \u001b[1;32min\u001b[0m \u001b[1;33m[\u001b[0m\u001b[0mCANCELLED\u001b[0m\u001b[1;33m,\u001b[0m \u001b[0mCANCELLED_AND_NOTIFIED\u001b[0m\u001b[1;33m]\u001b[0m\u001b[1;33m:\u001b[0m\u001b[1;33m\u001b[0m\u001b[1;33m\u001b[0m\u001b[0m\n",
      "\u001b[1;32m~\\Anaconda3\\lib\\threading.py\u001b[0m in \u001b[0;36mwait\u001b[1;34m(self, timeout)\u001b[0m\n\u001b[0;32m    294\u001b[0m         \u001b[1;32mtry\u001b[0m\u001b[1;33m:\u001b[0m    \u001b[1;31m# restore state no matter what (e.g., KeyboardInterrupt)\u001b[0m\u001b[1;33m\u001b[0m\u001b[1;33m\u001b[0m\u001b[0m\n\u001b[0;32m    295\u001b[0m             \u001b[1;32mif\u001b[0m \u001b[0mtimeout\u001b[0m \u001b[1;32mis\u001b[0m \u001b[1;32mNone\u001b[0m\u001b[1;33m:\u001b[0m\u001b[1;33m\u001b[0m\u001b[1;33m\u001b[0m\u001b[0m\n\u001b[1;32m--> 296\u001b[1;33m                 \u001b[0mwaiter\u001b[0m\u001b[1;33m.\u001b[0m\u001b[0macquire\u001b[0m\u001b[1;33m(\u001b[0m\u001b[1;33m)\u001b[0m\u001b[1;33m\u001b[0m\u001b[1;33m\u001b[0m\u001b[0m\n\u001b[0m\u001b[0;32m    297\u001b[0m                 \u001b[0mgotit\u001b[0m \u001b[1;33m=\u001b[0m \u001b[1;32mTrue\u001b[0m\u001b[1;33m\u001b[0m\u001b[1;33m\u001b[0m\u001b[0m\n\u001b[0;32m    298\u001b[0m             \u001b[1;32melse\u001b[0m\u001b[1;33m:\u001b[0m\u001b[1;33m\u001b[0m\u001b[1;33m\u001b[0m\u001b[0m\n",
      "\u001b[1;31mKeyboardInterrupt\u001b[0m: "
     ]
    }
   ],
   "source": [
    "robot.behavior.turn_in_place(degrees(-90))\n",
    "ref_distance = robot.proximity.last_sensor_reading.distance.distance_mm\n",
    "robot.behavior.turn_in_place(degrees(90))\n",
    "print (ref_distance)\n",
    "\n",
    "    \n",
    "while 1:\n",
    "  robot.behavior.drive_straight(distance_mm(100), speed_mmps(150))\n",
    "  robot.behavior.turn_in_place(degrees(-90))\n",
    "  distance = robot.proximity.last_sensor_reading.distance.distance_mm\n",
    "  print (distance)\n",
    "    \n",
    "  if ((ref_distance - distance)>0):\n",
    "    robot.behavior.turn_in_place(degrees(93))\n",
    "  else:\n",
    "    robot.behavior.turn_in_place(degrees(87))"
   ]
  },
  {
   "cell_type": "code",
   "execution_count": 46,
   "metadata": {},
   "outputs": [
    {
     "data": {
      "text/plain": [
       "status {\n",
       "  code: REQUEST_PROCESSING\n",
       "}"
      ]
     },
     "execution_count": 46,
     "metadata": {},
     "output_type": "execute_result"
    }
   ],
   "source": [
    "robot.motors.stop_all_motors()"
   ]
  },
  {
   "cell_type": "markdown",
   "metadata": {},
   "source": [
    "Read map"
   ]
  },
  {
   "cell_type": "code",
   "execution_count": 59,
   "metadata": {},
   "outputs": [
    {
     "name": "stdout",
     "output_type": "stream",
     "text": [
      "Map: <NavMapGrid center: <Vector3 x: -64.00 y: -64.00 z: 0.00> size: 256.0>\n",
      "Size:  256.0\n",
      "Pose of robot <Pose: <Position x: 0.37 y: -1.79 z: 0.00> <Quaternion q0: 1.00 q1: 0.00 q2: 0.00 q3: -0.01 <Angle Radians: -0.02 Degrees: -1.18>> <Origin Id: 87>>\n",
      "X, Y coordinates:  0.3667869567871094 -1.790410041809082\n",
      "Printing all objects right of robot: \n",
      "2\n",
      "2\n",
      "2\n",
      "2\n",
      "2\n",
      "2\n",
      "2\n",
      "1\n",
      "1\n",
      "1\n",
      "1\n",
      "1\n",
      "1\n",
      "1\n",
      "1\n",
      "0\n",
      "0\n",
      "0\n",
      "0\n",
      "0\n",
      "0\n",
      "0\n",
      "0\n",
      "0\n",
      "0\n",
      "0\n",
      "0\n",
      "0\n",
      "0\n",
      "0\n",
      "0\n",
      "0\n",
      "0\n",
      "0\n",
      "0\n",
      "0\n",
      "0\n",
      "0\n",
      "0\n",
      "0\n",
      "0\n",
      "0\n",
      "0\n",
      "0\n",
      "0\n",
      "0\n",
      "0\n",
      "0\n",
      "0\n",
      "0\n",
      "0\n",
      "0\n",
      "0\n",
      "0\n",
      "0\n",
      "0\n",
      "0\n",
      "0\n",
      "0\n",
      "0\n",
      "0\n",
      "0\n",
      "0\n",
      "0\n",
      "NavNodeContentTypes.Unknown\n",
      "NavNodeContentTypes.Unknown\n",
      "NavNodeContentTypes.Unknown\n",
      "NavNodeContentTypes.Unknown\n",
      "NavNodeContentTypes.Unknown\n",
      "NavNodeContentTypes.Unknown\n",
      "NavNodeContentTypes.Unknown\n",
      "NavNodeContentTypes.Unknown\n",
      "NavNodeContentTypes.Unknown\n",
      "NavNodeContentTypes.Unknown\n",
      "NavNodeContentTypes.Unknown\n",
      "NavNodeContentTypes.Unknown\n",
      "NavNodeContentTypes.Unknown\n",
      "NavNodeContentTypes.Unknown\n",
      "NavNodeContentTypes.Unknown\n",
      "NavNodeContentTypes.Unknown\n",
      "NavNodeContentTypes.Unknown\n",
      "NavNodeContentTypes.Unknown\n",
      "NavNodeContentTypes.Unknown\n",
      "NavNodeContentTypes.Unknown\n",
      "NavNodeContentTypes.Unknown\n",
      "NavNodeContentTypes.Unknown\n",
      "NavNodeContentTypes.Unknown\n",
      "NavNodeContentTypes.Unknown\n",
      "NavNodeContentTypes.Unknown\n",
      "NavNodeContentTypes.Unknown\n",
      "NavNodeContentTypes.Unknown\n",
      "NavNodeContentTypes.Unknown\n",
      "NavNodeContentTypes.Unknown\n",
      "NavNodeContentTypes.Unknown\n",
      "NavNodeContentTypes.Unknown\n",
      "NavNodeContentTypes.Unknown\n",
      "NavNodeContentTypes.Unknown\n",
      "NavNodeContentTypes.Unknown\n",
      "NavNodeContentTypes.Unknown\n",
      "NavNodeContentTypes.Unknown\n",
      "NavNodeContentTypes.Unknown\n",
      "NavNodeContentTypes.Unknown\n",
      "NavNodeContentTypes.Unknown\n",
      "NavNodeContentTypes.Unknown\n",
      "NavNodeContentTypes.Unknown\n",
      "NavNodeContentTypes.Unknown\n",
      "NavNodeContentTypes.Unknown\n",
      "NavNodeContentTypes.Unknown\n",
      "NavNodeContentTypes.Unknown\n",
      "NavNodeContentTypes.Unknown\n",
      "NavNodeContentTypes.Unknown\n",
      "NavNodeContentTypes.Unknown\n",
      "NavNodeContentTypes.Unknown\n",
      "NavNodeContentTypes.Unknown\n",
      "NavNodeContentTypes.Unknown\n",
      "NavNodeContentTypes.Unknown\n",
      "NavNodeContentTypes.Unknown\n",
      "NavNodeContentTypes.Unknown\n",
      "NavNodeContentTypes.Unknown\n",
      "NavNodeContentTypes.Unknown\n",
      "NavNodeContentTypes.Unknown\n",
      "NavNodeContentTypes.Unknown\n",
      "NavNodeContentTypes.Unknown\n",
      "NavNodeContentTypes.Unknown\n",
      "NavNodeContentTypes.Unknown\n",
      "NavNodeContentTypes.Unknown\n",
      "NavNodeContentTypes.Unknown\n",
      "NavNodeContentTypes.Unknown\n",
      "NavNodeContentTypes.Unknown\n",
      "NavNodeContentTypes.Unknown\n",
      "NavNodeContentTypes.Unknown\n",
      "NavNodeContentTypes.Unknown\n",
      "NavNodeContentTypes.Unknown\n",
      "NavNodeContentTypes.Unknown\n",
      "NavNodeContentTypes.Unknown\n",
      "NavNodeContentTypes.Unknown\n",
      "NavNodeContentTypes.Unknown\n",
      "NavNodeContentTypes.Unknown\n",
      "NavNodeContentTypes.Unknown\n",
      "NavNodeContentTypes.Unknown\n",
      "NavNodeContentTypes.Unknown\n",
      "NavNodeContentTypes.Unknown\n",
      "NavNodeContentTypes.Unknown\n",
      "NavNodeContentTypes.Unknown\n",
      "NavNodeContentTypes.Unknown\n",
      "NavNodeContentTypes.Unknown\n",
      "NavNodeContentTypes.Unknown\n",
      "NavNodeContentTypes.Unknown\n",
      "NavNodeContentTypes.Unknown\n"
     ]
    }
   ],
   "source": [
    "# Map initialisieren\n",
    "robot.enable_nav_map_feed=True\n",
    "\n",
    "#navMap = robot.nav_map.NavMapComponent\n",
    "\n",
    "robot.nav_map.init_nav_map_feed(frequency=0.5)\n",
    "latest_nav_map = robot.nav_map.latest_nav_map\n",
    "\n",
    "# Roboter einmal drehen\n",
    "#robot.behavior.turn_in_place(degrees(360))\n",
    "robot.behavior.look_around_in_place()\n",
    "\n",
    "print (\"Map:\", latest_nav_map)\n",
    "print (\"Size: \", latest_nav_map.size)\n",
    "print (\"Pose of robot\", robot.pose)\n",
    "print (\"X, Y coordinates: \", robot.pose.position.x, robot.pose.position.y)\n",
    "\n",
    "x = robot.pose.position.x\n",
    "y = robot.pose.position.y\n",
    "\n",
    "x = 1\n",
    "\n",
    "print (\"Printing all objects right of robot: \")\n",
    "while x < 150:\n",
    "    print (latest_nav_map.get_content(x, y))\n",
    "    x = x + 1"
   ]
  },
  {
   "cell_type": "markdown",
   "metadata": {},
   "source": [
    "Karte über openGL auslesen"
   ]
  },
  {
   "cell_type": "code",
   "execution_count": 7,
   "metadata": {},
   "outputs": [
    {
     "name": "stderr",
     "output_type": "stream",
     "text": [
      "14:49:44.687               robot.Robot WARNING  No serial number or name provided. Automatically selecting 00803c3b\n",
      "14:49:44.698     connection.Connection    INFO  Connecting to 172.16.5.100:443 for Vector-M7Y9 using C:\\Users\\MoC19\\.anki_vector\\Vector-M7Y9-00803c3b.cert\n",
      "14:49:45.131     connection.Connection    INFO  BehaviorControl control_granted_response { }\n"
     ]
    },
    {
     "ename": "InvalidOpenGLGlutImplementation",
     "evalue": "Install freeglut: You can download it from http://freeglut.sourceforge.net/ \nYou just need the `freeglut.dll` file, from any of the 'Windows binaries' downloads. Place the DLL next to your Python script, or install it somewhere in your PATH to allow any script to use it.",
     "output_type": "error",
     "traceback": [
      "\u001b[1;31m---------------------------------------------------------------------------\u001b[0m",
      "\u001b[1;31mInvalidOpenGLGlutImplementation\u001b[0m           Traceback (most recent call last)",
      "\u001b[1;32m<ipython-input-7-16ab42bf0d44>\u001b[0m in \u001b[0;36m<module>\u001b[1;34m\u001b[0m\n\u001b[0;32m      4\u001b[0m                         \u001b[0menable_face_detection\u001b[0m\u001b[1;33m=\u001b[0m\u001b[1;32mTrue\u001b[0m\u001b[1;33m,\u001b[0m\u001b[1;33m\u001b[0m\u001b[1;33m\u001b[0m\u001b[0m\n\u001b[0;32m      5\u001b[0m                         \u001b[0menable_custom_object_detection\u001b[0m\u001b[1;33m=\u001b[0m\u001b[1;32mTrue\u001b[0m\u001b[1;33m,\u001b[0m\u001b[1;33m\u001b[0m\u001b[1;33m\u001b[0m\u001b[0m\n\u001b[1;32m----> 6\u001b[1;33m                         enable_nav_map_feed=True):\n\u001b[0m\u001b[0;32m      7\u001b[0m     \u001b[0mprint\u001b[0m\u001b[1;33m(\u001b[0m\u001b[1;34m\"Starting 3D Viewer. Use Ctrl+C to quit.\"\u001b[0m\u001b[1;33m)\u001b[0m\u001b[1;33m\u001b[0m\u001b[1;33m\u001b[0m\u001b[0m\n",
      "\u001b[1;32m~\\AppData\\Roaming\\Python\\Python37\\site-packages\\anki_vector\\robot.py\u001b[0m in \u001b[0;36m__enter__\u001b[1;34m(self)\u001b[0m\n\u001b[0;32m    740\u001b[0m \u001b[1;33m\u001b[0m\u001b[0m\n\u001b[0;32m    741\u001b[0m     \u001b[1;32mdef\u001b[0m \u001b[0m__enter__\u001b[0m\u001b[1;33m(\u001b[0m\u001b[0mself\u001b[0m\u001b[1;33m)\u001b[0m\u001b[1;33m:\u001b[0m\u001b[1;33m\u001b[0m\u001b[1;33m\u001b[0m\u001b[0m\n\u001b[1;32m--> 742\u001b[1;33m         \u001b[0mself\u001b[0m\u001b[1;33m.\u001b[0m\u001b[0mconnect\u001b[0m\u001b[1;33m(\u001b[0m\u001b[0mself\u001b[0m\u001b[1;33m.\u001b[0m\u001b[0mbehavior_activation_timeout\u001b[0m\u001b[1;33m)\u001b[0m\u001b[1;33m\u001b[0m\u001b[1;33m\u001b[0m\u001b[0m\n\u001b[0m\u001b[0;32m    743\u001b[0m         \u001b[1;32mreturn\u001b[0m \u001b[0mself\u001b[0m\u001b[1;33m\u001b[0m\u001b[1;33m\u001b[0m\u001b[0m\n\u001b[0;32m    744\u001b[0m \u001b[1;33m\u001b[0m\u001b[0m\n",
      "\u001b[1;32m~\\AppData\\Roaming\\Python\\Python37\\site-packages\\anki_vector\\robot.py\u001b[0m in \u001b[0;36mconnect\u001b[1;34m(self, timeout)\u001b[0m\n\u001b[0;32m    676\u001b[0m \u001b[1;33m\u001b[0m\u001b[0m\n\u001b[0;32m    677\u001b[0m         \u001b[1;32mif\u001b[0m \u001b[0mself\u001b[0m\u001b[1;33m.\u001b[0m\u001b[0m_show_3d_viewer\u001b[0m\u001b[1;33m:\u001b[0m\u001b[1;33m\u001b[0m\u001b[1;33m\u001b[0m\u001b[0m\n\u001b[1;32m--> 678\u001b[1;33m             \u001b[0mself\u001b[0m\u001b[1;33m.\u001b[0m\u001b[0mviewer_3d\u001b[0m\u001b[1;33m.\u001b[0m\u001b[0mshow\u001b[0m\u001b[1;33m(\u001b[0m\u001b[1;33m)\u001b[0m\u001b[1;33m\u001b[0m\u001b[1;33m\u001b[0m\u001b[0m\n\u001b[0m\u001b[0;32m    679\u001b[0m \u001b[1;33m\u001b[0m\u001b[0m\n\u001b[0;32m    680\u001b[0m         \u001b[1;32mif\u001b[0m \u001b[0mself\u001b[0m\u001b[1;33m.\u001b[0m\u001b[0m_enable_nav_map_feed\u001b[0m\u001b[1;33m:\u001b[0m\u001b[1;33m\u001b[0m\u001b[1;33m\u001b[0m\u001b[0m\n",
      "\u001b[1;32m~\\AppData\\Roaming\\Python\\Python37\\site-packages\\anki_vector\\viewer.py\u001b[0m in \u001b[0;36mshow\u001b[1;34m(self, show_viewer_controls)\u001b[0m\n\u001b[0;32m    220\u001b[0m         \u001b[1;33m:\u001b[0m\u001b[0mparam\u001b[0m \u001b[0mshow_viewer_controls\u001b[0m\u001b[1;33m:\u001b[0m \u001b[0mSpecifies\u001b[0m \u001b[0mwhether\u001b[0m \u001b[0mto\u001b[0m \u001b[0mdraw\u001b[0m \u001b[0mcontrols\u001b[0m \u001b[0mon\u001b[0m \u001b[0mthe\u001b[0m \u001b[0mview\u001b[0m\u001b[1;33m.\u001b[0m\u001b[1;33m\u001b[0m\u001b[1;33m\u001b[0m\u001b[0m\n\u001b[0;32m    221\u001b[0m         \"\"\"\n\u001b[1;32m--> 222\u001b[1;33m         \u001b[1;32mfrom\u001b[0m \u001b[1;33m.\u001b[0m \u001b[1;32mimport\u001b[0m \u001b[0mopengl\u001b[0m\u001b[1;33m\u001b[0m\u001b[1;33m\u001b[0m\u001b[0m\n\u001b[0m\u001b[0;32m    223\u001b[0m         \u001b[0mctx\u001b[0m \u001b[1;33m=\u001b[0m \u001b[0mmp\u001b[0m\u001b[1;33m.\u001b[0m\u001b[0mget_context\u001b[0m\u001b[1;33m(\u001b[0m\u001b[1;34m'spawn'\u001b[0m\u001b[1;33m)\u001b[0m\u001b[1;33m\u001b[0m\u001b[1;33m\u001b[0m\u001b[0m\n\u001b[0;32m    224\u001b[0m         \u001b[0mself\u001b[0m\u001b[1;33m.\u001b[0m\u001b[0m_close_event\u001b[0m \u001b[1;33m=\u001b[0m \u001b[0mctx\u001b[0m\u001b[1;33m.\u001b[0m\u001b[0mEvent\u001b[0m\u001b[1;33m(\u001b[0m\u001b[1;33m)\u001b[0m\u001b[1;33m\u001b[0m\u001b[1;33m\u001b[0m\u001b[0m\n",
      "\u001b[1;32m~\\AppData\\Roaming\\Python\\Python37\\site-packages\\anki_vector\\opengl\\__init__.py\u001b[0m in \u001b[0;36m<module>\u001b[1;34m\u001b[0m\n\u001b[0;32m     42\u001b[0m \u001b[1;32mimport\u001b[0m \u001b[0mmultiprocessing\u001b[0m \u001b[1;32mas\u001b[0m \u001b[0mmp\u001b[0m\u001b[1;33m\u001b[0m\u001b[1;33m\u001b[0m\u001b[0m\n\u001b[0;32m     43\u001b[0m \u001b[1;33m\u001b[0m\u001b[0m\n\u001b[1;32m---> 44\u001b[1;33m \u001b[1;32mfrom\u001b[0m \u001b[1;33m.\u001b[0m \u001b[1;32mimport\u001b[0m \u001b[0mopengl_viewer\u001b[0m\u001b[1;33m\u001b[0m\u001b[1;33m\u001b[0m\u001b[0m\n\u001b[0m\u001b[0;32m     45\u001b[0m \u001b[1;33m\u001b[0m\u001b[0m\n\u001b[0;32m     46\u001b[0m \u001b[1;33m\u001b[0m\u001b[0m\n",
      "\u001b[1;32m~\\AppData\\Roaming\\Python\\Python37\\site-packages\\anki_vector\\opengl\\opengl_viewer.py\u001b[0m in \u001b[0;36m<module>\u001b[1;34m\u001b[0m\n\u001b[0;32m     60\u001b[0m \u001b[1;33m\u001b[0m\u001b[0m\n\u001b[0;32m     61\u001b[0m \u001b[1;32mfrom\u001b[0m \u001b[0manki_vector\u001b[0m \u001b[1;32mimport\u001b[0m \u001b[0mnav_map\u001b[0m\u001b[1;33m,\u001b[0m \u001b[0mutil\u001b[0m\u001b[1;33m\u001b[0m\u001b[1;33m\u001b[0m\u001b[0m\n\u001b[1;32m---> 62\u001b[1;33m \u001b[1;32mfrom\u001b[0m \u001b[1;33m.\u001b[0m \u001b[1;32mimport\u001b[0m \u001b[0mopengl\u001b[0m\u001b[1;33m,\u001b[0m \u001b[0mopengl_vector\u001b[0m\u001b[1;33m\u001b[0m\u001b[1;33m\u001b[0m\u001b[0m\n\u001b[0m\u001b[0;32m     63\u001b[0m \u001b[1;33m\u001b[0m\u001b[0m\n\u001b[0;32m     64\u001b[0m \u001b[1;33m\u001b[0m\u001b[0m\n",
      "\u001b[1;32m~\\AppData\\Roaming\\Python\\Python37\\site-packages\\anki_vector\\opengl\\opengl.py\u001b[0m in \u001b[0;36m<module>\u001b[1;34m\u001b[0m\n\u001b[0;32m    117\u001b[0m \u001b[1;33m\u001b[0m\u001b[0m\n\u001b[0;32m    118\u001b[0m \u001b[1;32mif\u001b[0m \u001b[1;32mnot\u001b[0m \u001b[0m_verify_glut_init\u001b[0m\u001b[1;33m(\u001b[0m\u001b[1;33m)\u001b[0m\u001b[1;33m:\u001b[0m\u001b[1;33m\u001b[0m\u001b[1;33m\u001b[0m\u001b[0m\n\u001b[1;32m--> 119\u001b[1;33m     \u001b[1;32mraise\u001b[0m \u001b[0mInvalidOpenGLGlutImplementation\u001b[0m\u001b[1;33m(\u001b[0m\u001b[0m_glut_install_instructions\u001b[0m\u001b[1;33m(\u001b[0m\u001b[1;33m)\u001b[0m\u001b[1;33m)\u001b[0m\u001b[1;33m\u001b[0m\u001b[1;33m\u001b[0m\u001b[0m\n\u001b[0m\u001b[0;32m    120\u001b[0m \u001b[1;33m\u001b[0m\u001b[0m\n\u001b[0;32m    121\u001b[0m \u001b[1;33m\u001b[0m\u001b[0m\n",
      "\u001b[1;31mInvalidOpenGLGlutImplementation\u001b[0m: Install freeglut: You can download it from http://freeglut.sourceforge.net/ \nYou just need the `freeglut.dll` file, from any of the 'Windows binaries' downloads. Place the DLL next to your Python script, or install it somewhere in your PATH to allow any script to use it."
     ]
    }
   ],
   "source": [
    "#args = anki_vector.util.parse_command_args()\n",
    "with anki_vector.Robot( show_viewer=True,\n",
    "                        show_3d_viewer=True,\n",
    "                        enable_face_detection=True,\n",
    "                        enable_custom_object_detection=True,\n",
    "                        enable_nav_map_feed=True):\n",
    "    print(\"Starting 3D Viewer. Use Ctrl+C to quit.\")"
   ]
  },
  {
   "cell_type": "code",
   "execution_count": 89,
   "metadata": {},
   "outputs": [
    {
     "name": "stdout",
     "output_type": "stream",
     "text": [
      "connected---------------------------------------------------------------\n",
      "Robot battery Level: 2\n",
      "Head Angle Set\n"
     ]
    },
    {
     "name": "stderr",
     "output_type": "stream",
     "text": [
      "19:44:10.870    util.BehaviorComponent WARNING  set_lift_height cancelled because behavior control was lost\n",
      "19:44:10.871     connection.Connection    INFO  BehaviorControl control_lost_event { }\n",
      "19:44:10.877    util.BehaviorComponent    INFO  Delaying _abort until behavior control is granted\n",
      "19:44:10.884    util.BehaviorComponent    INFO  Delaying set_head_angle until behavior control is granted\n"
     ]
    },
    {
     "name": "stdout",
     "output_type": "stream",
     "text": [
      "Lift Height Set\n",
      "Map: <NavMapGrid center: <Vector3 x: 320.00 y: -192.00 z: 0.00> size: 1024.0>\n",
      "Size:  1024.0\n",
      "Pose of robot <Pose: <Position x: 0.00 y: -0.00 z: 0.00> <Quaternion q0: 1.00 q1: 0.00 q2: 0.00 q3: -0.00 <Angle Radians: -0.00 Degrees: -0.06>> <Origin Id: 143>>\n",
      "X, Y coordinates:  0.0 -7.697939872741699e-05\n"
     ]
    },
    {
     "name": "stderr",
     "output_type": "stream",
     "text": [
      "19:44:11.768     connection.Connection    INFO  BehaviorControl control_granted_response { }\n"
     ]
    },
    {
     "name": "stdout",
     "output_type": "stream",
     "text": [
      "0\n",
      "Stop\n",
      "counter_+1 1\n",
      "sensor_wall 74\n",
      "0\n",
      "sensor_wall 66\n",
      "0\n",
      "sensor_wall 67\n",
      "0\n",
      "counter_+1 2\n",
      "sensor_wall 156\n",
      "0\n",
      "sensor_wall 142\n",
      "0\n",
      "sensor_wall 110\n",
      "0\n",
      "sensor_wall 86\n",
      "0\n",
      "sensor_wall 68\n",
      "0\n",
      "sensor_wall 48\n",
      "0\n",
      "sensor_wall 49\n",
      "0\n",
      "sensor_wall 47\n",
      "0\n",
      "sensor_wall 100\n",
      "0\n",
      "sensor_wall 44\n",
      "0\n",
      "sensor_wall 49\n",
      "0\n",
      "sensor_wall 215\n",
      "counter -1 1\n",
      "0\n",
      "sensor_wall 386\n",
      "counter -1 0\n",
      "0\n",
      "Stop\n",
      "counter_+1 1\n",
      "0\n",
      "counter_+1 2\n",
      "sensor_wall 109\n",
      "0\n",
      "sensor_wall 51\n",
      "0\n",
      "sensor_wall 50\n",
      "0\n",
      "sensor_wall 289\n",
      "counter -1 1\n",
      "0\n",
      "sensor_wall 137\n",
      "0\n",
      "counter_+1 2\n",
      "sensor_wall 320\n",
      "counter -1 1\n",
      "0\n",
      "sensor_wall 49\n",
      "0\n",
      "counter_+1 2\n",
      "sensor_wall 400\n",
      "counter -1 1\n",
      "0\n",
      "sensor_wall 58\n",
      "0\n",
      "counter_+1 2\n",
      "sensor_wall 400\n",
      "counter -1 1\n",
      "0\n"
     ]
    },
    {
     "name": "stderr",
     "output_type": "stream",
     "text": [
      "19:46:06.061     connection.Connection    INFO  BehaviorControl control_lost_event { }\n",
      "19:46:06.061       util.MotorComponent WARNING  stop_all_motors cancelled because behavior control was lost\n",
      "19:46:06.074    util.BehaviorComponent    INFO  Delaying turn_in_place until behavior control is granted\n",
      "19:46:06.159     connection.Connection    INFO  BehaviorControl control_granted_response { }\n"
     ]
    },
    {
     "name": "stdout",
     "output_type": "stream",
     "text": [
      "sensor_wall 400\n",
      "counter -1 0\n",
      "0\n",
      "Stop\n",
      "counter_+1 1\n",
      "sensor_wall 60\n",
      "0\n",
      "sensor_wall 301\n",
      "counter -1 0\n",
      "0\n",
      "Stop\n",
      "counter_+1 1\n",
      "sensor_wall 400\n",
      "0\n",
      "sensor_wall 400\n",
      "counter -1 0\n",
      "0\n",
      "counter_+1 1\n",
      "0\n",
      "counter_+1 2\n"
     ]
    },
    {
     "ename": "KeyboardInterrupt",
     "evalue": "",
     "output_type": "error",
     "traceback": [
      "\u001b[1;31m---------------------------------------------------------------------------\u001b[0m",
      "\u001b[1;31mKeyboardInterrupt\u001b[0m                         Traceback (most recent call last)",
      "\u001b[1;32m<ipython-input-89-60c0285cc2b8>\u001b[0m in \u001b[0;36m<module>\u001b[1;34m\u001b[0m\n\u001b[0;32m    102\u001b[0m     \u001b[1;32mif\u001b[0m \u001b[1;33m(\u001b[0m\u001b[0mdistance\u001b[0m\u001b[1;33m(\u001b[0m\u001b[1;33m)\u001b[0m \u001b[1;33m>=\u001b[0m \u001b[1;36m200\u001b[0m \u001b[1;32mand\u001b[0m \u001b[0mcounter\u001b[0m \u001b[1;33m!=\u001b[0m \u001b[1;36m0\u001b[0m\u001b[1;33m)\u001b[0m\u001b[1;33m:\u001b[0m\u001b[1;33m\u001b[0m\u001b[1;33m\u001b[0m\u001b[0m\n\u001b[0;32m    103\u001b[0m         \u001b[1;31m#robot.behavior.drive_straight(distance_mm(200), speed_mmps(200))\u001b[0m\u001b[1;33m\u001b[0m\u001b[1;33m\u001b[0m\u001b[1;33m\u001b[0m\u001b[0m\n\u001b[1;32m--> 104\u001b[1;33m         \u001b[0mmoveForward\u001b[0m\u001b[1;33m(\u001b[0m\u001b[0mIntervallCheckingDistanceToWall\u001b[0m\u001b[1;33m)\u001b[0m\u001b[1;33m\u001b[0m\u001b[1;33m\u001b[0m\u001b[0m\n\u001b[0m\u001b[0;32m    105\u001b[0m         \u001b[0mrobot\u001b[0m\u001b[1;33m.\u001b[0m\u001b[0mbehavior\u001b[0m\u001b[1;33m.\u001b[0m\u001b[0mturn_in_place\u001b[0m\u001b[1;33m(\u001b[0m\u001b[0mdegrees\u001b[0m\u001b[1;33m(\u001b[0m\u001b[1;36m90\u001b[0m\u001b[1;33m)\u001b[0m\u001b[1;33m)\u001b[0m\u001b[1;33m\u001b[0m\u001b[1;33m\u001b[0m\u001b[0m\n\u001b[0;32m    106\u001b[0m         \u001b[0mprint\u001b[0m\u001b[1;33m(\u001b[0m\u001b[1;34m\"sensor_wall\"\u001b[0m\u001b[1;33m,\u001b[0m \u001b[0mdistance\u001b[0m\u001b[1;33m(\u001b[0m\u001b[1;33m)\u001b[0m\u001b[1;33m)\u001b[0m\u001b[1;33m\u001b[0m\u001b[1;33m\u001b[0m\u001b[0m\n",
      "\u001b[1;32m<ipython-input-89-60c0285cc2b8>\u001b[0m in \u001b[0;36mmoveForward\u001b[1;34m(dist)\u001b[0m\n\u001b[0;32m     45\u001b[0m \u001b[1;32mdef\u001b[0m \u001b[0mmoveForward\u001b[0m\u001b[1;33m(\u001b[0m\u001b[0mdist\u001b[0m\u001b[1;33m)\u001b[0m\u001b[1;33m:\u001b[0m\u001b[1;33m\u001b[0m\u001b[1;33m\u001b[0m\u001b[0m\n\u001b[0;32m     46\u001b[0m     \u001b[0mi\u001b[0m \u001b[1;33m=\u001b[0m \u001b[1;36m0\u001b[0m\u001b[1;33m\u001b[0m\u001b[1;33m\u001b[0m\u001b[0m\n\u001b[1;32m---> 47\u001b[1;33m     \u001b[0mrobot\u001b[0m\u001b[1;33m.\u001b[0m\u001b[0mmotors\u001b[0m\u001b[1;33m.\u001b[0m\u001b[0mset_wheel_motors\u001b[0m\u001b[1;33m(\u001b[0m\u001b[1;36m200\u001b[0m\u001b[1;33m,\u001b[0m \u001b[1;36m200\u001b[0m\u001b[1;33m)\u001b[0m\u001b[1;33m\u001b[0m\u001b[1;33m\u001b[0m\u001b[0m\n\u001b[0m\u001b[0;32m     48\u001b[0m     \u001b[1;32mwhile\u001b[0m \u001b[0mi\u001b[0m \u001b[1;33m<\u001b[0m \u001b[0mdist\u001b[0m \u001b[1;32mand\u001b[0m \u001b[0mdistance\u001b[0m\u001b[1;33m(\u001b[0m\u001b[1;33m)\u001b[0m \u001b[1;33m>=\u001b[0m \u001b[1;36m180\u001b[0m\u001b[1;33m:\u001b[0m\u001b[1;33m\u001b[0m\u001b[1;33m\u001b[0m\u001b[0m\n\u001b[0;32m     49\u001b[0m         \u001b[0mi\u001b[0m \u001b[1;33m+=\u001b[0m \u001b[1;36m1\u001b[0m\u001b[1;33m\u001b[0m\u001b[1;33m\u001b[0m\u001b[0m\n",
      "\u001b[1;32m~\\AppData\\Roaming\\Python\\Python37\\site-packages\\anki_vector\\connection.py\u001b[0m in \u001b[0;36mresult\u001b[1;34m(*args, **kwargs)\u001b[0m\n\u001b[0;32m    804\u001b[0m                 \u001b[1;32mreturn\u001b[0m \u001b[0mfuture\u001b[0m\u001b[1;33m\u001b[0m\u001b[1;33m\u001b[0m\u001b[0m\n\u001b[0;32m    805\u001b[0m             \u001b[1;32mtry\u001b[0m\u001b[1;33m:\u001b[0m\u001b[1;33m\u001b[0m\u001b[1;33m\u001b[0m\u001b[0m\n\u001b[1;32m--> 806\u001b[1;33m                 \u001b[1;32mreturn\u001b[0m \u001b[0mfuture\u001b[0m\u001b[1;33m.\u001b[0m\u001b[0mresult\u001b[0m\u001b[1;33m(\u001b[0m\u001b[1;33m)\u001b[0m\u001b[1;33m\u001b[0m\u001b[1;33m\u001b[0m\u001b[0m\n\u001b[0m\u001b[0;32m    807\u001b[0m             \u001b[1;32mexcept\u001b[0m \u001b[0mfutures\u001b[0m\u001b[1;33m.\u001b[0m\u001b[0mCancelledError\u001b[0m\u001b[1;33m:\u001b[0m\u001b[1;33m\u001b[0m\u001b[1;33m\u001b[0m\u001b[0m\n\u001b[0;32m    808\u001b[0m                 \u001b[0mself\u001b[0m\u001b[1;33m.\u001b[0m\u001b[0mlogger\u001b[0m\u001b[1;33m.\u001b[0m\u001b[0mwarning\u001b[0m\u001b[1;33m(\u001b[0m\u001b[1;34mf\"{func.__name__} cancelled because behavior control was lost\"\u001b[0m\u001b[1;33m)\u001b[0m\u001b[1;33m\u001b[0m\u001b[1;33m\u001b[0m\u001b[0m\n",
      "\u001b[1;32m~\\Anaconda3\\lib\\concurrent\\futures\\_base.py\u001b[0m in \u001b[0;36mresult\u001b[1;34m(self, timeout)\u001b[0m\n\u001b[0;32m    428\u001b[0m                 \u001b[1;32mreturn\u001b[0m \u001b[0mself\u001b[0m\u001b[1;33m.\u001b[0m\u001b[0m__get_result\u001b[0m\u001b[1;33m(\u001b[0m\u001b[1;33m)\u001b[0m\u001b[1;33m\u001b[0m\u001b[1;33m\u001b[0m\u001b[0m\n\u001b[0;32m    429\u001b[0m \u001b[1;33m\u001b[0m\u001b[0m\n\u001b[1;32m--> 430\u001b[1;33m             \u001b[0mself\u001b[0m\u001b[1;33m.\u001b[0m\u001b[0m_condition\u001b[0m\u001b[1;33m.\u001b[0m\u001b[0mwait\u001b[0m\u001b[1;33m(\u001b[0m\u001b[0mtimeout\u001b[0m\u001b[1;33m)\u001b[0m\u001b[1;33m\u001b[0m\u001b[1;33m\u001b[0m\u001b[0m\n\u001b[0m\u001b[0;32m    431\u001b[0m \u001b[1;33m\u001b[0m\u001b[0m\n\u001b[0;32m    432\u001b[0m             \u001b[1;32mif\u001b[0m \u001b[0mself\u001b[0m\u001b[1;33m.\u001b[0m\u001b[0m_state\u001b[0m \u001b[1;32min\u001b[0m \u001b[1;33m[\u001b[0m\u001b[0mCANCELLED\u001b[0m\u001b[1;33m,\u001b[0m \u001b[0mCANCELLED_AND_NOTIFIED\u001b[0m\u001b[1;33m]\u001b[0m\u001b[1;33m:\u001b[0m\u001b[1;33m\u001b[0m\u001b[1;33m\u001b[0m\u001b[0m\n",
      "\u001b[1;32m~\\Anaconda3\\lib\\threading.py\u001b[0m in \u001b[0;36mwait\u001b[1;34m(self, timeout)\u001b[0m\n\u001b[0;32m    294\u001b[0m         \u001b[1;32mtry\u001b[0m\u001b[1;33m:\u001b[0m    \u001b[1;31m# restore state no matter what (e.g., KeyboardInterrupt)\u001b[0m\u001b[1;33m\u001b[0m\u001b[1;33m\u001b[0m\u001b[0m\n\u001b[0;32m    295\u001b[0m             \u001b[1;32mif\u001b[0m \u001b[0mtimeout\u001b[0m \u001b[1;32mis\u001b[0m \u001b[1;32mNone\u001b[0m\u001b[1;33m:\u001b[0m\u001b[1;33m\u001b[0m\u001b[1;33m\u001b[0m\u001b[0m\n\u001b[1;32m--> 296\u001b[1;33m                 \u001b[0mwaiter\u001b[0m\u001b[1;33m.\u001b[0m\u001b[0macquire\u001b[0m\u001b[1;33m(\u001b[0m\u001b[1;33m)\u001b[0m\u001b[1;33m\u001b[0m\u001b[1;33m\u001b[0m\u001b[0m\n\u001b[0m\u001b[0;32m    297\u001b[0m                 \u001b[0mgotit\u001b[0m \u001b[1;33m=\u001b[0m \u001b[1;32mTrue\u001b[0m\u001b[1;33m\u001b[0m\u001b[1;33m\u001b[0m\u001b[0m\n\u001b[0;32m    298\u001b[0m             \u001b[1;32melse\u001b[0m\u001b[1;33m:\u001b[0m\u001b[1;33m\u001b[0m\u001b[1;33m\u001b[0m\u001b[0m\n",
      "\u001b[1;31mKeyboardInterrupt\u001b[0m: "
     ]
    }
   ],
   "source": [
    "# robot.behavior.say_text(\"Connected\")\n",
    "#     robot.viewer.show()\n",
    "#   robot.viewer_3d.show()\n",
    "robot.behavior.say_text(\"tt coming home\")\n",
    "\n",
    "print(\"connected---------------------------------------------------------------\")\n",
    "battery_state = robot.get_battery_state()\n",
    "print(\"Robot battery Level: {0}\".format(battery_state.battery_level))\n",
    "\n",
    "robot.behavior.set_head_angle(degrees(-5.0))\n",
    "print(\"Head Angle Set\")\n",
    "robot.behavior.set_lift_height(0.0)\n",
    "print(\"Lift Height Set\")\n",
    "\n",
    "Ausgang = False\n",
    "counter = 0\n",
    "abort = 0\n",
    "returnFromWall = False\n",
    "angle = 0\n",
    "\n",
    "# Constants\n",
    "IntervallCheckingDistanceToWall = 5\n",
    "DegreesCorrectStraightPath = 0\n",
    "\n",
    "# Map initialisieren\n",
    "#robot.enable_nav_map_feed=True\n",
    "\n",
    "#navMap = robot.nav_map.NavMapComponent\n",
    "\n",
    "#robot.nav_map.init_nav_map_feed(frequency=0.5)\n",
    "#latest_nav_map = robot.nav_map.latest_nav_map\n",
    "\n",
    "# Roboter einmal drehen\n",
    "#robot.behavior.turn_in_place(degrees(360))\n",
    "#robot.behavior.look_around_in_place()\n",
    "\n",
    "print (\"Map:\", latest_nav_map)\n",
    "print (\"Size: \", latest_nav_map.size)\n",
    "print (\"Pose of robot\", robot.pose)\n",
    "print (\"X, Y coordinates: \", robot.pose.position.x, robot.pose.position.y)\n",
    "\n",
    "def distance():\n",
    "    return int(robot.proximity.last_sensor_reading.distance.distance_mm)\n",
    "\n",
    "def moveForward(dist):\n",
    "    i = 0\n",
    "    robot.motors.set_wheel_motors(200, 200)\n",
    "    while i < dist and distance() >= 180:\n",
    "        i += 1\n",
    "        time.sleep(0.1)\n",
    "    robot.motors.stop_all_motors()\n",
    "    \n",
    "def correctStraigthPath():\n",
    "    if (distance() < 100):\n",
    "        robot.behavior.turn_in_place(degrees((-90 - DegreesCorrectStraightPath)))\n",
    "    else:\n",
    "        robot.behavior.turn_in_place(degrees((-90 + DegreesCorrectStraightPath))) \n",
    "\n",
    "def edgeCheck():\n",
    "    robot.behavior.turn_in_place(degrees(-30))\n",
    "    if (distance() < 50):\n",
    "        robot.behavior.turn_in_place(degrees(130))\n",
    "        robot.behavior.drive_straight(distance_mm(50), speed_mmps(50))\n",
    "        robot.behavior.turn_in_place(degrees(-90))\n",
    "    else:\n",
    "        robot.behavior.turn_in_place(degrees(30))\n",
    "        robot.behavior.turn_in_place(degrees(30))\n",
    "        if (distance() < 50):\n",
    "            robot.behavior.turn_in_place(degrees(60))\n",
    "            robot.behavior.drive_straight(distance_mm(-50), speed_mmps(50))\n",
    "            robot.behavior.turn_in_place(degrees(-60))\n",
    "        else:\n",
    "            robot.behavior.turn_in_place(degrees(-30))\n",
    "            \n",
    "#def turnAbsolute(a):\n",
    "#    nonlocal angle\n",
    "#    angle += a\n",
    "#    robot.behavior.turn_in_place(degrees(angle), absolute=True)\n",
    "            \n",
    "while Ausgang is False:\n",
    "    robot.behavior.set_head_angle(degrees(-5.0))\n",
    "    robot.behavior.set_lift_height(0.0)\n",
    "\n",
    "    #print(\"sensor_straight\", distance())\n",
    "    #print(\"counter_main\", counter)\n",
    "    #print(\"Angle: \", robot.pose_angle_rad)\n",
    "    #print (\"Pose: \", robot.pose)\n",
    "    print(angle)\n",
    "    \n",
    "    if (distance() >= 200 and counter == 0):\n",
    "        while (distance() >= 150):\n",
    "            robot.motors.set_wheel_motors(200, 200)\n",
    "        else:\n",
    "            robot.motors.stop_all_motors()\n",
    "            print(\"Stop\")\n",
    "\n",
    "    if (distance() < 200):\n",
    "        robot.behavior.turn_in_place(degrees(-90))\n",
    "        counter = counter + 1\n",
    "        print(\"counter_+1\", counter)\n",
    "\n",
    "    if (distance() >= 200 and counter != 0):           \n",
    "        #robot.behavior.drive_straight(distance_mm(200), speed_mmps(200))\n",
    "        moveForward(IntervallCheckingDistanceToWall)\n",
    "        robot.behavior.turn_in_place(degrees(90))\n",
    "        print(\"sensor_wall\", distance())\n",
    "        # Checking distance to wall\n",
    "        if (distance() < 200):\n",
    "            correctStraigthPath()\n",
    "        else:\n",
    "            #edgeCheck()\n",
    "            counter = counter - 1\n",
    "            print(\"counter -1\", counter)"
   ]
  },
  {
   "cell_type": "code",
   "execution_count": 19,
   "metadata": {},
   "outputs": [
    {
     "name": "stdout",
     "output_type": "stream",
     "text": [
      "000000000000111111111111111111111111111111111111111122222222222222222222222211111111111111111111111111111111111111111111\n",
      "000000000000111111111111111111111111111111111111111122222222222222222222222211111111111111111111111111111111111111111111\n",
      "000000000000111111111111111111111111111111111111111122222222222222222222222211111111111111111111111111111111111111111111\n",
      "000000000000111111111111111111111111111111111111111122222222222222222222222211111111111111111111111111111111111111111111\n",
      "000000000000111111111111111111111111222222222222222222222222222222222222222222222222222222221111111111111111111111111111\n",
      "000000000000111111111111111111111111222222222222222222222222222222222222222222222222222222221111111111111111111111111111\n",
      "000000000000111111111111111111111111222222222222222222222222222222222222222222222222222222221111111111111111111111111111\n",
      "000000000000111111111111111111111111222222222222222222222222222222222222222222222222222222221111111111111111111111111111\n",
      "000000000000111111111111111111111111222222222222222222222222222222222222222222222222222222221111111111111111111111111111\n",
      "000000000000111111111111111111111111222222222222222222222222222222222222222222222222222222221111111111111111111111111111\n",
      "000000000000111111111111111111111111222222222222222222222222222222222222222222222222222222221111111111111111111111111111\n",
      "000000000000111111111111111111111111222222222222222222222222222222222222222222222222222222221111111111111111111111111111\n",
      "000011111111111111111111111122222222222222222222222222222222222222222222222222222222222222221111111111111111111111111111\n",
      "000011111111111111111111111122222222222222222222222222222222222222222222222222222222222222221111111111111111111111111111\n",
      "000011111111111111111111111122222222222222222222222222222222222222222222222222222222222222221111111111111111111111111111\n",
      "000011111111111111111111111122222222222222222222222222222222222222222222222222222222222222221111111111111111111111111111\n",
      "000011111111111111111111111122222222222222222222222222222222222222222222222222222222222222221111111111111111111111111111\n",
      "000011111111111111111111111122222222222222222222222222222222222222222222222222222222222222221111111111111111111111111111\n",
      "000011111111111111111111111122222222222222222222222222222222222222222222222222222222222222221111111111111111111111111111\n",
      "000011111111111111111111111122222222222222222222222222222222222222222222222222222222222222221111111111111111111111111111\n",
      "000011111111111111111111111122222222222222222222222222222222222222222222222222222222222222222222222211111111111111111111\n",
      "000011111111111111111111111122222222222222222222222222222222222222222222222222222222222222222222222211111111111111111111\n",
      "000011111111111111111111111122222222222222222222222222222222222222222222222222222222222222222222222211111111111111111111\n",
      "000011111111111111111111111122222222222222222222222222222222222222222222222222222222222222222222222211111111111111111111\n",
      "000011111111111111111111111122222222222222222222222222222222222222222222222222222222222222222222222211111111111111111111\n",
      "000011111111111111111111111122222222222222222222222222222222222222222222222222222222222222222222222211111111111111111111\n",
      "000011111111111111111111111122222222222222222222222222222222222222222222222222222222222222222222222211111111111111111111\n",
      "000011111111111111111111111122222222222222222222222222222222222222222222222222222222222222222222222211111111111111111111\n",
      "000000000000111111111111111122222222222222222222222222222222222222222222222222222222222222222222222211111111111111111111\n",
      "000000000000111111111111111122222222222222222222222222222222222222222222222222222222222222222222222211111111111111111111\n",
      "000000000000111111111111111122222222222222222222222222222222222222222222222222222222222222222222222211111111111111111111\n",
      "000000000000111111111111111122222222222222222222222222222222222222222222222222222222222222222222222211111111111111111111\n",
      "000000000000111111111111111122222222222222222222222222222222222222222222222222222222222222222222222211111111111111111111\n",
      "000000000000111111111111111122222222222222222222222222222222222222222222222222222222222222222222222211111111111111111111\n",
      "000000000000111111111111111122222222222222222222222222222222222222222222222222222222222222222222222211111111111111111111\n",
      "000000000000111111111111111122222222222222222222222222222222222222222222222222222222222222222222222211111111111111111111\n",
      "000011111111111111111111111111111111222222222222222222222222222222222222222222222222222222221111111111111111111111111111\n",
      "000011111111111111111111111111111111222222222222222222222222222222222222222222222222222222221111111111111111111111111111\n",
      "000011111111111111111111111111111111222222222222222222222222222222222222222222222222222222221111111111111111111111111111\n",
      "000011111111111111111111111111111111222222222222222222222222222222222222222222222222222222221111111111111111111111111111\n",
      "000011111111111111111111111111111111222222222222222222222222222222222222222222222222222222221111111111111111111111111111\n",
      "000011111111111111111111111111111111222222222222222222222222222222222222222222222222222222221111111111111111111111111111\n",
      "000011111111111111111111111111111111222222222222222222222222222222222222222222222222222222221111111111111111111111111111\n",
      "000011111111111111111111111111111111222222222222222222222222222222222222222222222222222222221111111111111111111111111111\n",
      "000000000000111111111111111111111111222222222222222222222222222222222222222222222222222222221111111111111111111111111111\n",
      "000000000000111111111111111111111111222222222222222222222222222222222222222222222222222222221111111111111111111111111111\n",
      "000000000000111111111111111111111111222222222222222222222222222222222222222222222222222222221111111111111111111111111111\n",
      "000000000000111111111111111111111111222222222222222222222222222222222222222222222222222222221111111111111111111111111111\n",
      "000000000000111111111111111111111111222222222222222222222222222222222222222222222222222222221111111111111111111111111111\n",
      "000000000000111111111111111111111111222222222222222222222222222222222222222222222222222222221111111111111111111111111111\n",
      "000000000000111111111111111111111111222222222222222222222222222222222222222222222222222222221111111111111111111111111111\n",
      "000000000000111111111111111111111111222222222222222222222222222222222222222222222222222222221111111111111111111111111111\n",
      "000000000000000000001111111111111111111111112222222222222222222222222222222222222222111111111111111111111111111111111111\n",
      "000000000000000000001111111111111111111111112222222222222222222222222222222222222222111111111111111111111111111111111111\n",
      "000000000000000000001111111111111111111111112222222222222222222222222222222222222222111111111111111111111111111111111111\n",
      "000000000000000000001111111111111111111111112222222222222222222222222222222222222222111111111111111111111111111111111111\n",
      "000000000000000000001111111111111111111111112222222222222222222222222222222222222222111111111111111111111111111111111111\n",
      "000000000000000000001111111111111111111111112222222222222222222222222222222222222222111111111111111111111111111111111111\n",
      "000000000000000000001111111111111111111111112222222222222222222222222222222222222222111111111111111111111111111111111111\n",
      "000000000000000000001111111111111111111111112222222222222222222222222222222222222222111111111111111111111111111111111111\n",
      "000000000000000000001111111111111111111111112222222222222222222222222222222211111111111111111111111111111111111111111111\n",
      "000000000000000000001111111111111111111111112222222222222222222222222222222211111111111111111111111111111111111111111111\n",
      "000000000000000000001111111111111111111111112222222222222222222222222222222211111111111111111111111111111111111111111111\n",
      "000000000000000000001111111111111111111111112222222222222222222222222222222211111111111111111111111111111111111111111111\n",
      "000000000000000000001111111111111111111111112222222222222222222222222222222211111111111111111111111111111111111111111111\n",
      "000000000000000000001111111111111111111111112222222222222222222222222222222211111111111111111111111111111111111111111111\n",
      "000000000000000000001111111111111111111111112222222222222222222222222222222211111111111111111111111111111111111111111111\n",
      "000000000000000000001111111111111111111111112222222222222222222222222222222211111111111111111111111111111111111111111111\n",
      "000000000000000000000000000011111111111111111111111111111111111111111111111111111111111111111111111111111111111111111111\n",
      "000000000000000000000000000011111111111111111111111111111111111111111111111111111111111111111111111111111111111111111111\n",
      "000000000000000000000000000011111111111111111111111111111111111111111111111111111111111111111111111111111111111111111111\n",
      "000000000000000000000000000011111111111111111111111111111111111111111111111111111111111111111111111111111111111111111111\n",
      "000000000000000000000000000011111111111111111111111111111111111111111111111111111111111111111111111111111111111111111111\n",
      "000000000000000000000000000011111111111111111111111111111111111111111111111111111111111111111111111111111111111111111111\n",
      "000000000000000000000000000011111111111111111111111111111111111111111111111111111111111111111111111111111111111111111111\n",
      "000000000000000000000000000011111111111111111111111111111111111111111111111111111111111111111111111111111111111111111111\n",
      "000000000000000000000000000000000000111111111111111111111111111111111111111111111111111111111111111111111111111111111111\n",
      "000000000000000000000000000000000000111111111111111111111111111111111111111111111111111111111111111111111111111111111111\n",
      "000000000000000000000000000000000000111111111111111111111111111111111111111111111111111111111111111111111111111111111111\n",
      "000000000000000000000000000000000000111111111111111111111111111111111111111111111111111111111111111111111111111111111111\n",
      "000000000000000000000000000000000000111111111111111111111111111111111111111111111111111111111111111111111111111111111111\n",
      "000000000000000000000000000000000000111111111111111111111111111111111111111111111111111111111111111111111111111111111111\n",
      "000000000000000000000000000000000000111111111111111111111111111111111111111111111111111111111111111111111111111111111111\n",
      "000000000000000000000000000000000000111111111111111111111111111111111111111111111111111111111111111111111111111111111111\n",
      "000000000000000000000000000000000000000000000000000011111111111111111111111111111111111111111111111111111111111111111111\n",
      "000000000000000000000000000000000000000000000000000011111111111111111111111111111111111111111111111111111111111111111111\n",
      "000000000000000000000000000000000000000000000000000011111111111111111111111111111111111111111111111111111111111111111111\n",
      "000000000000000000000000000000000000000000000000000011111111111111111111111111111111111111111111111111111111111111111111\n",
      "000000000000000000000000000000000000000000000000000011111111111111111111111111111111111111111111111111111111111111111111\n",
      "000000000000000000000000000000000000000000000000000011111111111111111111111111111111111111111111111111111111111111111111\n",
      "000000000000000000000000000000000000000000000000000011111111111111111111111111111111111111111111111111111111111111111111\n",
      "000000000000000000000000000000000000000000000000000011111111111111111111111111111111111111111111111111111111111111111111\n",
      "000000000000000000000000000000000000000000001111111111111111111111111111111111111111111111111111111111111111111111111111\n",
      "000000000000000000000000000000000000000000001111111111111111111111111111111111111111111111111111111111111111111111111111\n",
      "000000000000000000000000000000000000000000001111111111111111111111111111111111111111111111111111111111111111111111111111\n",
      "000000000000000000000000000000000000000000001111111111111111111111111111111111111111111111111111111111111111111111111111\n",
      "000000000000000000000000000000000000000000001111111111111111111111111111111111111111111111111111111111111111111111111111\n",
      "000000000000000000000000000000000000000000001111111111111111111111111111111111111111111111111111111111111111111111111111\n",
      "000000000000000000000000000000000000000000001111111111111111111111111111111111111111111111111111111111111111111111111111\n",
      "000000000000000000000000000000000000000000001111111111111111111111111111111111111111111111111111111111111111111111111111\n",
      "000000000000000000000000000000000000000000001111111111111111111111111111111111111111111111111111111111111111111111111111\n",
      "000000000000000000000000000000000000000000001111111111111111111111111111111111111111111111111111111111111111111111111111\n",
      "000000000000000000000000000000000000000000001111111111111111111111111111111111111111111111111111111111111111111111111111\n",
      "000000000000000000000000000000000000000000001111111111111111111111111111111111111111111111111111111111111111111111111111\n",
      "000000000000000000000000000000000000000000001111111111111111111111111111111111111111111111111111111111111111111111111111\n",
      "000000000000000000000000000000000000000000001111111111111111111111111111111111111111111111111111111111111111111111111111\n",
      "000000000000000000000000000000000000000000001111111111111111111111111111111111111111111111111111111111111111111111111111\n",
      "000000000000000000000000000000000000000000001111111111111111111111111111111111111111111111111111111111111111111111111111\n",
      "000000000000000000000000000000000000000000001111111111111111111111111111111111111111111111111111111111111111111111111111\n",
      "000000000000000000000000000000000000000000001111111111111111111111111111111111111111111111111111111111111111111111111111\n",
      "000000000000000000000000000000000000000000001111111111111111111111111111111111111111111111111111111111111111111111111111\n",
      "000000000000000000000000000000000000000000001111111111111111111111111111111111111111111111111111111111111111111111111111\n",
      "000000000000000000000000000000000000000000001111111111111111111111111111111111111111111111111111111111111111111111111111\n",
      "000000000000000000000000000000000000000000001111111111111111111111111111111111111111111111111111111111111111111111111111\n",
      "000000000000000000000000000000000000000000001111111111111111111111111111111111111111111111111111111111111111111111111111\n",
      "000000000000000000000000000000000000000000001111111111111111111111111111111111111111111111111111111111111111111111111111\n",
      "000000000000000000000000000000000000000000001111111111111111111111111111111111111111111111111111111111111111111111111111\n",
      "000000000000000000000000000000000000000000001111111111111111111111111111111111111111111111111111111111111111111111111111\n",
      "000000000000000000000000000000000000000000001111111111111111111111111111111111111111111111111111111111111111111111111111\n",
      "000000000000000000000000000000000000000000001111111111111111111111111111111111111111111111111111111111111111111111111111\n"
     ]
    }
   ],
   "source": [
    "contentArray = []\n",
    "line = \"\"\n",
    "r = 60\n",
    "\n",
    "for x in range(-r,r):\n",
    "    for y in range(-r,r):\n",
    "        line = line + str(latest_nav_map.get_content(x, y)) #+ \" \"\n",
    "    print (line)\n",
    "    line = \"\""
   ]
  },
  {
   "cell_type": "code",
   "execution_count": 61,
   "metadata": {},
   "outputs": [],
   "source": [
    "robot.disconnect()"
   ]
  },
  {
   "cell_type": "markdown",
   "metadata": {},
   "source": [
    "# Edge Detection with CV2"
   ]
  },
  {
   "cell_type": "markdown",
   "metadata": {},
   "source": [
    "## Imports und Verbindungsaufbau"
   ]
  },
  {
   "cell_type": "code",
   "execution_count": 105,
   "metadata": {},
   "outputs": [],
   "source": [
    "import time\n",
    "from PIL import Image\n",
    "import cv2\n",
    "import numpy as np\n",
    "import matplotlib.pyplot as plt "
   ]
  },
  {
   "cell_type": "markdown",
   "metadata": {},
   "source": [
    "Verbindung mit dem Roboter herstellen"
   ]
  },
  {
   "cell_type": "code",
   "execution_count": 107,
   "metadata": {},
   "outputs": [
    {
     "name": "stderr",
     "output_type": "stream",
     "text": [
      "22:39:41.406               robot.Robot WARNING  No serial number or name provided. Automatically selecting 00803c3b\n",
      "22:39:41.407               robot.Robot WARNING  enable_nav_map_feed should be True for 3d viewer to render correctly.\n"
     ]
    }
   ],
   "source": [
    "robot = anki_vector.Robot(show_viewer=True,\n",
    "                       show_3d_viewer=True)"
   ]
  },
  {
   "cell_type": "code",
   "execution_count": 108,
   "metadata": {},
   "outputs": [
    {
     "name": "stderr",
     "output_type": "stream",
     "text": [
      "22:39:56.976     connection.Connection    INFO  Connecting to 192.168.0.17:443 for Vector-B6X2 using C:\\Users\\MoC19\\.anki_vector\\Vector-B6X2-00803c3b.cert\n",
      "22:39:57.368     connection.Connection    INFO  BehaviorControl control_granted_response { }\n"
     ]
    }
   ],
   "source": [
    "robot.connect()"
   ]
  },
  {
   "cell_type": "code",
   "execution_count": 113,
   "metadata": {},
   "outputs": [],
   "source": [
    "robot.behavior.say_text(\"Goodbye\")\n",
    "robot.disconnect()"
   ]
  },
  {
   "cell_type": "code",
   "execution_count": 109,
   "metadata": {},
   "outputs": [
    {
     "data": {
      "text/plain": [
       "status {\n",
       "  code: RESPONSE_RECEIVED\n",
       "}\n",
       "state: FINISHED"
      ]
     },
     "execution_count": 109,
     "metadata": {},
     "output_type": "execute_result"
    }
   ],
   "source": [
    "robot.camera.init_camera_feed()\n",
    "robot.behavior.say_text(\"Edge\")"
   ]
  },
  {
   "cell_type": "markdown",
   "metadata": {},
   "source": [
    "Arm hochbewegen für besseres Kamerabild"
   ]
  },
  {
   "cell_type": "code",
   "execution_count": 110,
   "metadata": {},
   "outputs": [
    {
     "data": {
      "text/plain": [
       "status {\n",
       "  code: RESPONSE_RECEIVED\n",
       "}\n",
       "result {\n",
       "}"
      ]
     },
     "execution_count": 110,
     "metadata": {},
     "output_type": "execute_result"
    }
   ],
   "source": [
    "robot.behavior.set_lift_height(1)\n",
    "robot.behavior.set_head_angle(degrees(-5.0))"
   ]
  },
  {
   "cell_type": "markdown",
   "metadata": {},
   "source": [
    "## Test der einzelnen Funtionen"
   ]
  },
  {
   "cell_type": "markdown",
   "metadata": {},
   "source": [
    "### Bildverarbeitung"
   ]
  },
  {
   "cell_type": "markdown",
   "metadata": {},
   "source": [
    "Orignales Bild abspeichern"
   ]
  },
  {
   "cell_type": "code",
   "execution_count": 111,
   "metadata": {},
   "outputs": [],
   "source": [
    "imageFromVector = robot.camera.latest_image"
   ]
  },
  {
   "cell_type": "code",
   "execution_count": 114,
   "metadata": {},
   "outputs": [
    {
     "name": "stderr",
     "output_type": "stream",
     "text": [
      "Task was destroyed but it is pending!\n",
      "task: <Task pending coro=<Connection._open_connections() running at C:\\Users\\MoC19\\AppData\\Roaming\\Python\\Python37\\site-packages\\anki_vector\\connection.py:572> wait_for=<Future pending cb=[shield.<locals>._outer_done_callback() at C:\\Users\\MoC19\\Anaconda3\\lib\\asyncio\\tasks.py:820, <TaskWakeupMethWrapper object at 0x0000018FA98F8708>()]>>\n",
      "Task was destroyed but it is pending!\n",
      "task: <Task pending coro=<<async_generator_asend without __name__>()> wait_for=<Future pending cb=[<TaskWakeupMethWrapper object at 0x0000018FA98F8648>()]> cb=[_wait.<locals>._on_completion() at C:\\Users\\MoC19\\Anaconda3\\lib\\asyncio\\tasks.py:466]>\n",
      "Task was destroyed but it is pending!\n",
      "task: <Task pending coro=<WrappedAsyncIterator._next() running at C:\\Users\\MoC19\\AppData\\Roaming\\Python\\Python37\\site-packages\\aiogrpc\\utils.py:194> wait_for=<Future pending cb=[<TaskWakeupMethWrapper object at 0x0000018FA98F8588>()]>>\n",
      "Task was destroyed but it is pending!\n",
      "task: <Task pending coro=<Connection._open_connections() running at C:\\Users\\MoC19\\AppData\\Roaming\\Python\\Python37\\site-packages\\anki_vector\\connection.py:572> wait_for=<Future pending cb=[shield.<locals>._outer_done_callback() at C:\\Users\\MoC19\\Anaconda3\\lib\\asyncio\\tasks.py:820, <TaskWakeupMethWrapper object at 0x0000018FA98081F8>()]>>\n",
      "Task was destroyed but it is pending!\n",
      "task: <Task pending coro=<<async_generator_asend without __name__>()> wait_for=<Future pending cb=[<TaskWakeupMethWrapper object at 0x0000018FA97EBEE8>()]> cb=[_wait.<locals>._on_completion() at C:\\Users\\MoC19\\Anaconda3\\lib\\asyncio\\tasks.py:466]>\n",
      "Task was destroyed but it is pending!\n",
      "task: <Task pending coro=<WrappedAsyncIterator._next() running at C:\\Users\\MoC19\\AppData\\Roaming\\Python\\Python37\\site-packages\\aiogrpc\\utils.py:194> wait_for=<Future pending cb=[<TaskWakeupMethWrapper object at 0x0000018FA97EBEB8>()]>>\n",
      "Future exception was never retrieved\n",
      "future: <Future finished exception=<_MultiThreadedRendezvous of RPC that terminated with:\n",
      "\tstatus = StatusCode.CANCELLED\n",
      "\tdetails = \"Channel closed!\"\n",
      "\tdebug_error_string = \"{\"created\":\"@1581630132.738000000\",\"description\":\"Error received from peer ipv4:192.168.0.17:443\",\"file\":\"src/core/lib/surface/call.cc\",\"file_line\":1056,\"grpc_message\":\"Channel closed!\",\"grpc_status\":1}\"\n",
      ">>\n",
      "Traceback (most recent call last):\n",
      "  File \"C:\\Users\\MoC19\\Anaconda3\\lib\\concurrent\\futures\\thread.py\", line 57, in run\n",
      "    result = self.fn(*self.args, **self.kwargs)\n",
      "  File \"C:\\Users\\MoC19\\AppData\\Roaming\\Python\\Python37\\site-packages\\aiogrpc\\utils.py\", line 126, in _next\n",
      "    return next(self._iterator)\n",
      "  File \"C:\\Users\\MoC19\\AppData\\Roaming\\Python\\Python37\\site-packages\\grpc\\_channel.py\", line 416, in __next__\n",
      "    return self._next()\n",
      "  File \"C:\\Users\\MoC19\\AppData\\Roaming\\Python\\Python37\\site-packages\\grpc\\_channel.py\", line 706, in _next\n",
      "    raise self\n",
      "grpc._channel._MultiThreadedRendezvous: <_MultiThreadedRendezvous of RPC that terminated with:\n",
      "\tstatus = StatusCode.CANCELLED\n",
      "\tdetails = \"Channel closed!\"\n",
      "\tdebug_error_string = \"{\"created\":\"@1581630132.738000000\",\"description\":\"Error received from peer ipv4:192.168.0.17:443\",\"file\":\"src/core/lib/surface/call.cc\",\"file_line\":1056,\"grpc_message\":\"Channel closed!\",\"grpc_status\":1}\"\n",
      ">\n",
      "Future exception was never retrieved\n",
      "future: <Future finished exception=<_MultiThreadedRendezvous of RPC that terminated with:\n",
      "\tstatus = StatusCode.CANCELLED\n",
      "\tdetails = \"Channel closed!\"\n",
      "\tdebug_error_string = \"{\"created\":\"@1581630132.738000000\",\"description\":\"Error received from peer ipv4:192.168.0.17:443\",\"file\":\"src/core/lib/surface/call.cc\",\"file_line\":1056,\"grpc_message\":\"Channel closed!\",\"grpc_status\":1}\"\n",
      ">>\n",
      "Traceback (most recent call last):\n",
      "  File \"C:\\Users\\MoC19\\Anaconda3\\lib\\concurrent\\futures\\thread.py\", line 57, in run\n",
      "    result = self.fn(*self.args, **self.kwargs)\n",
      "  File \"C:\\Users\\MoC19\\AppData\\Roaming\\Python\\Python37\\site-packages\\aiogrpc\\utils.py\", line 126, in _next\n",
      "    return next(self._iterator)\n",
      "  File \"C:\\Users\\MoC19\\AppData\\Roaming\\Python\\Python37\\site-packages\\grpc\\_channel.py\", line 416, in __next__\n",
      "    return self._next()\n",
      "  File \"C:\\Users\\MoC19\\AppData\\Roaming\\Python\\Python37\\site-packages\\grpc\\_channel.py\", line 706, in _next\n",
      "    raise self\n",
      "grpc._channel._MultiThreadedRendezvous: <_MultiThreadedRendezvous of RPC that terminated with:\n",
      "\tstatus = StatusCode.CANCELLED\n",
      "\tdetails = \"Channel closed!\"\n",
      "\tdebug_error_string = \"{\"created\":\"@1581630132.738000000\",\"description\":\"Error received from peer ipv4:192.168.0.17:443\",\"file\":\"src/core/lib/surface/call.cc\",\"file_line\":1056,\"grpc_message\":\"Channel closed!\",\"grpc_status\":1}\"\n",
      ">\n",
      "Future exception was never retrieved\n",
      "future: <Future finished exception=<_MultiThreadedRendezvous of RPC that terminated with:\n",
      "\tstatus = StatusCode.CANCELLED\n",
      "\tdetails = \"Channel closed!\"\n",
      "\tdebug_error_string = \"{\"created\":\"@1581630132.738000000\",\"description\":\"Error received from peer ipv4:192.168.0.17:443\",\"file\":\"src/core/lib/surface/call.cc\",\"file_line\":1056,\"grpc_message\":\"Channel closed!\",\"grpc_status\":1}\"\n",
      ">>\n",
      "Traceback (most recent call last):\n",
      "  File \"C:\\Users\\MoC19\\Anaconda3\\lib\\concurrent\\futures\\thread.py\", line 57, in run\n",
      "    result = self.fn(*self.args, **self.kwargs)\n",
      "  File \"C:\\Users\\MoC19\\AppData\\Roaming\\Python\\Python37\\site-packages\\aiogrpc\\utils.py\", line 126, in _next\n",
      "    return next(self._iterator)\n",
      "  File \"C:\\Users\\MoC19\\AppData\\Roaming\\Python\\Python37\\site-packages\\grpc\\_channel.py\", line 416, in __next__\n",
      "    return self._next()\n",
      "  File \"C:\\Users\\MoC19\\AppData\\Roaming\\Python\\Python37\\site-packages\\grpc\\_channel.py\", line 706, in _next\n",
      "    raise self\n",
      "grpc._channel._MultiThreadedRendezvous: <_MultiThreadedRendezvous of RPC that terminated with:\n",
      "\tstatus = StatusCode.CANCELLED\n",
      "\tdetails = \"Channel closed!\"\n",
      "\tdebug_error_string = \"{\"created\":\"@1581630132.738000000\",\"description\":\"Error received from peer ipv4:192.168.0.17:443\",\"file\":\"src/core/lib/surface/call.cc\",\"file_line\":1056,\"grpc_message\":\"Channel closed!\",\"grpc_status\":1}\"\n",
      ">\n"
     ]
    },
    {
     "ename": "TypeError",
     "evalue": "Image data of dtype object cannot be converted to float",
     "output_type": "error",
     "traceback": [
      "\u001b[1;31m---------------------------------------------------------------------------\u001b[0m",
      "\u001b[1;31mTypeError\u001b[0m                                 Traceback (most recent call last)",
      "\u001b[1;32m<ipython-input-114-2511c46ce28c>\u001b[0m in \u001b[0;36m<module>\u001b[1;34m\u001b[0m\n\u001b[1;32m----> 1\u001b[1;33m \u001b[0mplt\u001b[0m\u001b[1;33m.\u001b[0m\u001b[0mimshow\u001b[0m\u001b[1;33m(\u001b[0m\u001b[0mimageFromVector\u001b[0m\u001b[1;33m)\u001b[0m\u001b[1;33m\u001b[0m\u001b[1;33m\u001b[0m\u001b[0m\n\u001b[0m\u001b[0;32m      2\u001b[0m \u001b[0mplt\u001b[0m\u001b[1;33m.\u001b[0m\u001b[0mshow\u001b[0m\u001b[1;33m(\u001b[0m\u001b[1;33m)\u001b[0m\u001b[1;33m\u001b[0m\u001b[1;33m\u001b[0m\u001b[0m\n",
      "\u001b[1;32m~\\Anaconda3\\lib\\site-packages\\matplotlib\\pyplot.py\u001b[0m in \u001b[0;36mimshow\u001b[1;34m(X, cmap, norm, aspect, interpolation, alpha, vmin, vmax, origin, extent, shape, filternorm, filterrad, imlim, resample, url, data, **kwargs)\u001b[0m\n\u001b[0;32m   2681\u001b[0m         \u001b[0mfilternorm\u001b[0m\u001b[1;33m=\u001b[0m\u001b[0mfilternorm\u001b[0m\u001b[1;33m,\u001b[0m \u001b[0mfilterrad\u001b[0m\u001b[1;33m=\u001b[0m\u001b[0mfilterrad\u001b[0m\u001b[1;33m,\u001b[0m \u001b[0mimlim\u001b[0m\u001b[1;33m=\u001b[0m\u001b[0mimlim\u001b[0m\u001b[1;33m,\u001b[0m\u001b[1;33m\u001b[0m\u001b[1;33m\u001b[0m\u001b[0m\n\u001b[0;32m   2682\u001b[0m         resample=resample, url=url, **({\"data\": data} if data is not\n\u001b[1;32m-> 2683\u001b[1;33m         None else {}), **kwargs)\n\u001b[0m\u001b[0;32m   2684\u001b[0m     \u001b[0msci\u001b[0m\u001b[1;33m(\u001b[0m\u001b[0m__ret\u001b[0m\u001b[1;33m)\u001b[0m\u001b[1;33m\u001b[0m\u001b[1;33m\u001b[0m\u001b[0m\n\u001b[0;32m   2685\u001b[0m     \u001b[1;32mreturn\u001b[0m \u001b[0m__ret\u001b[0m\u001b[1;33m\u001b[0m\u001b[1;33m\u001b[0m\u001b[0m\n",
      "\u001b[1;32m~\\Anaconda3\\lib\\site-packages\\matplotlib\\__init__.py\u001b[0m in \u001b[0;36minner\u001b[1;34m(ax, data, *args, **kwargs)\u001b[0m\n\u001b[0;32m   1599\u001b[0m     \u001b[1;32mdef\u001b[0m \u001b[0minner\u001b[0m\u001b[1;33m(\u001b[0m\u001b[0max\u001b[0m\u001b[1;33m,\u001b[0m \u001b[1;33m*\u001b[0m\u001b[0margs\u001b[0m\u001b[1;33m,\u001b[0m \u001b[0mdata\u001b[0m\u001b[1;33m=\u001b[0m\u001b[1;32mNone\u001b[0m\u001b[1;33m,\u001b[0m \u001b[1;33m**\u001b[0m\u001b[0mkwargs\u001b[0m\u001b[1;33m)\u001b[0m\u001b[1;33m:\u001b[0m\u001b[1;33m\u001b[0m\u001b[1;33m\u001b[0m\u001b[0m\n\u001b[0;32m   1600\u001b[0m         \u001b[1;32mif\u001b[0m \u001b[0mdata\u001b[0m \u001b[1;32mis\u001b[0m \u001b[1;32mNone\u001b[0m\u001b[1;33m:\u001b[0m\u001b[1;33m\u001b[0m\u001b[1;33m\u001b[0m\u001b[0m\n\u001b[1;32m-> 1601\u001b[1;33m             \u001b[1;32mreturn\u001b[0m \u001b[0mfunc\u001b[0m\u001b[1;33m(\u001b[0m\u001b[0max\u001b[0m\u001b[1;33m,\u001b[0m \u001b[1;33m*\u001b[0m\u001b[0mmap\u001b[0m\u001b[1;33m(\u001b[0m\u001b[0msanitize_sequence\u001b[0m\u001b[1;33m,\u001b[0m \u001b[0margs\u001b[0m\u001b[1;33m)\u001b[0m\u001b[1;33m,\u001b[0m \u001b[1;33m**\u001b[0m\u001b[0mkwargs\u001b[0m\u001b[1;33m)\u001b[0m\u001b[1;33m\u001b[0m\u001b[1;33m\u001b[0m\u001b[0m\n\u001b[0m\u001b[0;32m   1602\u001b[0m \u001b[1;33m\u001b[0m\u001b[0m\n\u001b[0;32m   1603\u001b[0m         \u001b[0mbound\u001b[0m \u001b[1;33m=\u001b[0m \u001b[0mnew_sig\u001b[0m\u001b[1;33m.\u001b[0m\u001b[0mbind\u001b[0m\u001b[1;33m(\u001b[0m\u001b[0max\u001b[0m\u001b[1;33m,\u001b[0m \u001b[1;33m*\u001b[0m\u001b[0margs\u001b[0m\u001b[1;33m,\u001b[0m \u001b[1;33m**\u001b[0m\u001b[0mkwargs\u001b[0m\u001b[1;33m)\u001b[0m\u001b[1;33m\u001b[0m\u001b[1;33m\u001b[0m\u001b[0m\n",
      "\u001b[1;32m~\\Anaconda3\\lib\\site-packages\\matplotlib\\cbook\\deprecation.py\u001b[0m in \u001b[0;36mwrapper\u001b[1;34m(*args, **kwargs)\u001b[0m\n\u001b[0;32m    367\u001b[0m                 \u001b[1;34mf\"%(removal)s.  If any parameter follows {name!r}, they \"\u001b[0m\u001b[1;33m\u001b[0m\u001b[1;33m\u001b[0m\u001b[0m\n\u001b[0;32m    368\u001b[0m                 f\"should be pass as keyword, not positionally.\")\n\u001b[1;32m--> 369\u001b[1;33m         \u001b[1;32mreturn\u001b[0m \u001b[0mfunc\u001b[0m\u001b[1;33m(\u001b[0m\u001b[1;33m*\u001b[0m\u001b[0margs\u001b[0m\u001b[1;33m,\u001b[0m \u001b[1;33m**\u001b[0m\u001b[0mkwargs\u001b[0m\u001b[1;33m)\u001b[0m\u001b[1;33m\u001b[0m\u001b[1;33m\u001b[0m\u001b[0m\n\u001b[0m\u001b[0;32m    370\u001b[0m \u001b[1;33m\u001b[0m\u001b[0m\n\u001b[0;32m    371\u001b[0m     \u001b[1;32mreturn\u001b[0m \u001b[0mwrapper\u001b[0m\u001b[1;33m\u001b[0m\u001b[1;33m\u001b[0m\u001b[0m\n",
      "\u001b[1;32m~\\Anaconda3\\lib\\site-packages\\matplotlib\\cbook\\deprecation.py\u001b[0m in \u001b[0;36mwrapper\u001b[1;34m(*args, **kwargs)\u001b[0m\n\u001b[0;32m    367\u001b[0m                 \u001b[1;34mf\"%(removal)s.  If any parameter follows {name!r}, they \"\u001b[0m\u001b[1;33m\u001b[0m\u001b[1;33m\u001b[0m\u001b[0m\n\u001b[0;32m    368\u001b[0m                 f\"should be pass as keyword, not positionally.\")\n\u001b[1;32m--> 369\u001b[1;33m         \u001b[1;32mreturn\u001b[0m \u001b[0mfunc\u001b[0m\u001b[1;33m(\u001b[0m\u001b[1;33m*\u001b[0m\u001b[0margs\u001b[0m\u001b[1;33m,\u001b[0m \u001b[1;33m**\u001b[0m\u001b[0mkwargs\u001b[0m\u001b[1;33m)\u001b[0m\u001b[1;33m\u001b[0m\u001b[1;33m\u001b[0m\u001b[0m\n\u001b[0m\u001b[0;32m    370\u001b[0m \u001b[1;33m\u001b[0m\u001b[0m\n\u001b[0;32m    371\u001b[0m     \u001b[1;32mreturn\u001b[0m \u001b[0mwrapper\u001b[0m\u001b[1;33m\u001b[0m\u001b[1;33m\u001b[0m\u001b[0m\n",
      "\u001b[1;32m~\\Anaconda3\\lib\\site-packages\\matplotlib\\axes\\_axes.py\u001b[0m in \u001b[0;36mimshow\u001b[1;34m(self, X, cmap, norm, aspect, interpolation, alpha, vmin, vmax, origin, extent, shape, filternorm, filterrad, imlim, resample, url, **kwargs)\u001b[0m\n\u001b[0;32m   5669\u001b[0m                               resample=resample, **kwargs)\n\u001b[0;32m   5670\u001b[0m \u001b[1;33m\u001b[0m\u001b[0m\n\u001b[1;32m-> 5671\u001b[1;33m         \u001b[0mim\u001b[0m\u001b[1;33m.\u001b[0m\u001b[0mset_data\u001b[0m\u001b[1;33m(\u001b[0m\u001b[0mX\u001b[0m\u001b[1;33m)\u001b[0m\u001b[1;33m\u001b[0m\u001b[1;33m\u001b[0m\u001b[0m\n\u001b[0m\u001b[0;32m   5672\u001b[0m         \u001b[0mim\u001b[0m\u001b[1;33m.\u001b[0m\u001b[0mset_alpha\u001b[0m\u001b[1;33m(\u001b[0m\u001b[0malpha\u001b[0m\u001b[1;33m)\u001b[0m\u001b[1;33m\u001b[0m\u001b[1;33m\u001b[0m\u001b[0m\n\u001b[0;32m   5673\u001b[0m         \u001b[1;32mif\u001b[0m \u001b[0mim\u001b[0m\u001b[1;33m.\u001b[0m\u001b[0mget_clip_path\u001b[0m\u001b[1;33m(\u001b[0m\u001b[1;33m)\u001b[0m \u001b[1;32mis\u001b[0m \u001b[1;32mNone\u001b[0m\u001b[1;33m:\u001b[0m\u001b[1;33m\u001b[0m\u001b[1;33m\u001b[0m\u001b[0m\n",
      "\u001b[1;32m~\\Anaconda3\\lib\\site-packages\\matplotlib\\image.py\u001b[0m in \u001b[0;36mset_data\u001b[1;34m(self, A)\u001b[0m\n\u001b[0;32m    683\u001b[0m                 not np.can_cast(self._A.dtype, float, \"same_kind\")):\n\u001b[0;32m    684\u001b[0m             raise TypeError(\"Image data of dtype {} cannot be converted to \"\n\u001b[1;32m--> 685\u001b[1;33m                             \"float\".format(self._A.dtype))\n\u001b[0m\u001b[0;32m    686\u001b[0m \u001b[1;33m\u001b[0m\u001b[0m\n\u001b[0;32m    687\u001b[0m         if not (self._A.ndim == 2\n",
      "\u001b[1;31mTypeError\u001b[0m: Image data of dtype object cannot be converted to float"
     ]
    },
    {
     "data": {
      "image/png": "[encoded data removed]",
      "text/plain": [
       "<Figure size 432x288 with 1 Axes>"
      ]
     },
     "metadata": {
      "needs_background": "light"
     },
     "output_type": "display_data"
    }
   ],
   "source": [
    "plt.imshow(imageFromVector)\n",
    "plt.show()"
   ]
  },
  {
   "cell_type": "markdown",
   "metadata": {},
   "source": [
    "Bild in Grayscale wandeln"
   ]
  },
  {
   "cell_type": "code",
   "execution_count": 112,
   "metadata": {},
   "outputs": [
    {
     "ename": "TypeError",
     "evalue": "Expected Ptr<cv::UMat> for argument 'src'",
     "output_type": "error",
     "traceback": [
      "\u001b[1;31m---------------------------------------------------------------------------\u001b[0m",
      "\u001b[1;31mTypeError\u001b[0m                                 Traceback (most recent call last)",
      "\u001b[1;32m<ipython-input-112-164da5608601>\u001b[0m in \u001b[0;36m<module>\u001b[1;34m\u001b[0m\n\u001b[1;32m----> 1\u001b[1;33m \u001b[0mimage\u001b[0m \u001b[1;33m=\u001b[0m \u001b[0mcv2\u001b[0m\u001b[1;33m.\u001b[0m\u001b[0mcvtColor\u001b[0m\u001b[1;33m(\u001b[0m\u001b[0mnp\u001b[0m\u001b[1;33m.\u001b[0m\u001b[0marray\u001b[0m\u001b[1;33m(\u001b[0m\u001b[0mimageFromVector\u001b[0m\u001b[1;33m)\u001b[0m\u001b[1;33m,\u001b[0m\u001b[0mcv2\u001b[0m\u001b[1;33m.\u001b[0m\u001b[0mCOLOR_BGR2GRAY\u001b[0m\u001b[1;33m)\u001b[0m\u001b[1;33m\u001b[0m\u001b[1;33m\u001b[0m\u001b[0m\n\u001b[0m\u001b[0;32m      2\u001b[0m \u001b[0mplt\u001b[0m\u001b[1;33m.\u001b[0m\u001b[0mimshow\u001b[0m\u001b[1;33m(\u001b[0m\u001b[0mimage\u001b[0m\u001b[1;33m,\u001b[0m\u001b[0mcmap\u001b[0m\u001b[1;33m=\u001b[0m\u001b[1;34m\"gray\"\u001b[0m\u001b[1;33m)\u001b[0m\u001b[1;33m\u001b[0m\u001b[1;33m\u001b[0m\u001b[0m\n\u001b[0;32m      3\u001b[0m \u001b[0mplt\u001b[0m\u001b[1;33m.\u001b[0m\u001b[0mshow\u001b[0m\u001b[1;33m(\u001b[0m\u001b[1;33m)\u001b[0m\u001b[1;33m\u001b[0m\u001b[1;33m\u001b[0m\u001b[0m\n",
      "\u001b[1;31mTypeError\u001b[0m: Expected Ptr<cv::UMat> for argument 'src'"
     ]
    }
   ],
   "source": [
    "image = cv2.cvtColor(np.array(imageFromVector),cv2.COLOR_BGR2GRAY)\n",
    "plt.imshow(image,cmap=\"gray\")\n",
    "plt.show()"
   ]
  },
  {
   "cell_type": "markdown",
   "metadata": {},
   "source": [
    "Bild zuschneiden"
   ]
  },
  {
   "cell_type": "code",
   "execution_count": null,
   "metadata": {},
   "outputs": [],
   "source": [
    "maskArea = np.array([[(125, 200),(175,100), (450, 100), (500, 225)]], dtype=np.int32)\n",
    "blank = np.zeros_like(image)\n",
    "mask = cv2.fillPoly(blank, maskArea, 255)\n",
    "maskedImage = cv2.bitwise_and(image, mask)\n",
    "plt.imshow(image)\n",
    "plt.show()"
   ]
  },
  {
   "cell_type": "markdown",
   "metadata": {},
   "source": [
    "Kantenerkennung"
   ]
  },
  {
   "cell_type": "code",
   "execution_count": null,
   "metadata": {},
   "outputs": [],
   "source": [
    "image_canny = cv2.Canny(maskedImage,50,200,apertureSize=3)"
   ]
  },
  {
   "cell_type": "markdown",
   "metadata": {},
   "source": [
    "### Roboter an der Kante ausrichten"
   ]
  },
  {
   "cell_type": "markdown",
   "metadata": {},
   "source": [
    "Hough Transformation durchführen"
   ]
  },
  {
   "cell_type": "code",
   "execution_count": null,
   "metadata": {},
   "outputs": [],
   "source": [
    "rho = 2            \n",
    "theta = np.pi/180  \n",
    "threshold = 50    \n",
    "minLine = 100  \n",
    "maxLine = 8  \n",
    "lines = cv2.HoughLinesP(image_canny, rho, theta, threshold, np.array([]), minLineLength=minLine, maxLineGap=maxLine)\n",
    "print(lines)"
   ]
  },
  {
   "cell_type": "markdown",
   "metadata": {},
   "source": [
    "Kanten in Bild einzeichnen"
   ]
  },
  {
   "cell_type": "code",
   "execution_count": null,
   "metadata": {},
   "outputs": [],
   "source": [
    "for rho,theta in lines[0]:\n",
    "    a = np.cos(theta)\n",
    "    b = np.sin(theta)\n",
    "    x0 = a*rho\n",
    "    y0 = b*rho\n",
    "    x1 = int(x0 + 1000*(-b))\n",
    "    y1 = int(y0 + 1000*(a))\n",
    "    x2 = int(x0 - 1000*(-b))\n",
    "    y2 = int(y0 - 1000*(a))\n",
    "\n",
    "    cv2.line(image_canny,(x1,y1),(x2,y2),(0,0,255),2)\n",
    "\n",
    "plt.imshow(image_canny)\n",
    "plt.show()"
   ]
  },
  {
   "cell_type": "markdown",
   "metadata": {},
   "source": [
    "Roboter an der Kante zentrieren"
   ]
  },
  {
   "cell_type": "code",
   "execution_count": null,
   "metadata": {},
   "outputs": [],
   "source": [
    "correctionFactor = 1.0\n",
    "\n",
    "try:\n",
    "    if lines[0,0,0] < 150: # turn left slightly\n",
    "        robot.motors.set_wheel_motors(100 * correctionFactor, 100)\n",
    "\n",
    "    elif lines[1,0,0] > 450: # turn right slightly\n",
    "        robot.motors.set_wheel_motors(100, 100 * correctionFactor)\n",
    "\n",
    "    else: # go straight\n",
    "        robot.motors.set_wheel_motors(100, 100)\n",
    "except:\n",
    "    print(\"didnt find any\")"
   ]
  },
  {
   "cell_type": "markdown",
   "metadata": {},
   "source": [
    "#### TODO\n",
    "- Nur Kanten im relevanten Bereich finden => Maske anpassen\n",
    "- Richtige Kante identifizieren, wo kann es zu Verwechslungen kommen?\n",
    "- Reaktion, wenn keine Kante mehr gefunden wurde"
   ]
  },
  {
   "cell_type": "markdown",
   "metadata": {},
   "source": [
    "## Implementierung"
   ]
  },
  {
   "cell_type": "markdown",
   "metadata": {},
   "source": [
    "Bildverarbeitung"
   ]
  },
  {
   "cell_type": "code",
   "execution_count": 93,
   "metadata": {},
   "outputs": [],
   "source": [
    "def imageTransformation():\n",
    "    return"
   ]
  },
  {
   "cell_type": "code",
   "execution_count": 94,
   "metadata": {},
   "outputs": [],
   "source": [
    "def pathCorrection():\n",
    "    return"
   ]
  },
  {
   "cell_type": "code",
   "execution_count": null,
   "metadata": {},
   "outputs": [],
   "source": [
    "def followEdge():\n",
    "    for count in range(25):\n",
    "        while not robot.camera.latest_image:\n",
    "            time.sleep(1.0)\n",
    "            \n",
    "        imageTransformation()\n",
    "        pathCorrection()\n",
    "    return"
   ]
  }
 ],
 "metadata": {
  "kernelspec": {
   "display_name": "Python 3",
   "language": "python",
   "name": "python3"
  },
  "language_info": {
   "codemirror_mode": {
    "name": "ipython",
    "version": 3
   },
   "file_extension": ".py",
   "mimetype": "text/x-python",
   "name": "python",
   "nbconvert_exporter": "python",
   "pygments_lexer": "ipython3",
   "version": "3.7.4"
  }
 },
 "nbformat": 4,
 "nbformat_minor": 2
}
