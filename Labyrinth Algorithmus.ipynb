{
 "cells": [
  {
   "cell_type": "code",
   "execution_count": 1,
   "metadata": {},
   "outputs": [],
   "source": [
    "import time\n",
    "import anki_vector\n",
    "from anki_vector.util import degrees, distance_mm, speed_mmps, Angle, Pose"
   ]
  },
  {
   "cell_type": "code",
   "execution_count": 2,
   "metadata": {},
   "outputs": [
    {
     "name": "stderr",
     "output_type": "stream",
     "text": [
      "01:09:13.424               robot.Robot WARNING  No serial number or name provided. Automatically selecting 00803c3b\n"
     ]
    }
   ],
   "source": [
    "robot = anki_vector.Robot(ip=\"192.168.0.17\",\n",
    "                       show_viewer=False,\n",
    "                       show_3d_viewer=False,\n",
    "                       enable_face_detection=False,\n",
    "                       enable_custom_object_detection=False,\n",
    "                       enable_nav_map_feed=False)"
   ]
  },
  {
   "cell_type": "code",
   "execution_count": 3,
   "metadata": {},
   "outputs": [
    {
     "name": "stderr",
     "output_type": "stream",
     "text": [
      "01:09:13.469     connection.Connection    INFO  Connecting to 192.168.0.17:443 for Vector-B6X2 using C:\\Users\\timfi\\.anki_vector\\Vector-B6X2-00803c3b.cert\n",
      "01:09:13.969     connection.Connection    INFO  BehaviorControl control_granted_response { }\n"
     ]
    }
   ],
   "source": [
    "robot.connect()"
   ]
  },
  {
   "cell_type": "code",
   "execution_count": null,
   "metadata": {},
   "outputs": [],
   "source": [
    "robot.behavior.say_text(\"Hello\")"
   ]
  },
  {
   "cell_type": "code",
   "execution_count": 6,
   "metadata": {},
   "outputs": [
    {
     "name": "stdout",
     "output_type": "stream",
     "text": [
      "Distance (mm):  218.0\n"
     ]
    }
   ],
   "source": [
    "distance = robot.proximity.last_sensor_reading.distance\n",
    "print (\"Distance (mm): \", distance.distance_mm)"
   ]
  },
  {
   "cell_type": "code",
   "execution_count": 4,
   "metadata": {},
   "outputs": [
    {
     "name": "stdout",
     "output_type": "stream",
     "text": [
      "connected---------------------------------------------------------------\n",
      "Robot battery Level: 2\n",
      "Head Angle Set\n",
      "Lift Height Set\n",
      "Pose of robot <Pose: <Position x: -3.55 y: -0.03 z: 0.00> <Quaternion q0: 1.00 q1: 0.00 q2: 0.00 q3: -0.00 <Angle Radians: -0.01 Degrees: -0.41>> <Origin Id: 243>>\n",
      "X, Y coordinates:  -3.5529706478118896 -0.02536378614604473\n",
      "1\n",
      "Stop\n",
      "2\n",
      "counter_+1 1\n",
      "3\n",
      "sensor_wall 108\n",
      "3\n",
      "sensor_wall 101\n",
      "3\n",
      "sensor_wall 90\n",
      "3\n",
      "sensor_wall 97\n",
      "3\n",
      "sensor_wall 96\n",
      "3\n",
      "sensor_wall 119\n",
      "3\n",
      "-0.05856060981750488\n",
      "-0.050530433654785156\n",
      "-0.4601290941238403\n",
      "counter -1 0\n",
      "1\n",
      "Stop\n",
      "2\n",
      "counter_+1 1\n",
      "3\n",
      "sensor_wall 164\n",
      "3\n",
      "0.663276195526123\n",
      "0.9198810458183289\n",
      "-14.703457921743393\n",
      "counter -1 0\n",
      "1\n",
      "Stop\n",
      "2\n",
      "counter_+1 1\n",
      "2\n",
      "counter_+1 2\n",
      "2\n",
      "counter_+1 3\n",
      "2\n",
      "counter_+1 4\n",
      "3\n",
      "sensor_wall 189\n",
      "3\n",
      "sensor_wall 51\n"
     ]
    },
    {
     "name": "stderr",
     "output_type": "stream",
     "text": [
      "01:09:59.161     connection.Connection    INFO  BehaviorControl control_lost_event { }\n",
      "01:09:59.161    util.BehaviorComponent WARNING  turn_in_place cancelled because behavior control was lost\n",
      "01:09:59.161    util.BehaviorComponent    INFO  Delaying _abort until behavior control is granted\n",
      "01:09:59.178    util.BehaviorComponent    INFO  Delaying set_head_angle until behavior control is granted\n"
     ]
    },
    {
     "name": "stdout",
     "output_type": "stream",
     "text": [
      "2\n",
      "counter_+1 5\n"
     ]
    },
    {
     "name": "stderr",
     "output_type": "stream",
     "text": [
      "01:10:07.064     connection.Connection    INFO  BehaviorControl control_granted_response { }\n"
     ]
    },
    {
     "name": "stdout",
     "output_type": "stream",
     "text": [
      "3\n",
      "sensor_wall 98\n",
      "2\n",
      "counter_+1 6\n",
      "2\n",
      "counter_+1 7\n",
      "2\n"
     ]
    },
    {
     "name": "stderr",
     "output_type": "stream",
     "text": [
      "01:10:12.276    util.BehaviorComponent WARNING  set_head_angle cancelled because behavior control was lost\n",
      "01:10:12.276     connection.Connection    INFO  BehaviorControl control_lost_event { }\n",
      "01:10:12.298    util.BehaviorComponent    INFO  Delaying _abort until behavior control is granted\n",
      "01:10:12.301    util.BehaviorComponent    INFO  Delaying set_lift_height until behavior control is granted\n"
     ]
    },
    {
     "name": "stdout",
     "output_type": "stream",
     "text": [
      "counter_+1 8\n"
     ]
    },
    {
     "name": "stderr",
     "output_type": "stream",
     "text": [
      "01:10:12.891     connection.Connection    INFO  BehaviorControl control_granted_response { }\n"
     ]
    },
    {
     "name": "stdout",
     "output_type": "stream",
     "text": [
      "3\n",
      "sensor_wall 107\n",
      "2\n",
      "counter_+1 9\n",
      "2\n",
      "counter_+1 10\n",
      "2\n",
      "counter_+1 11\n",
      "2\n",
      "counter_+1 12\n",
      "2\n",
      "counter_+1 13\n",
      "3\n"
     ]
    },
    {
     "name": "stderr",
     "output_type": "stream",
     "text": [
      "01:10:18.412     connection.Connection    INFO  BehaviorControl control_lost_event { }\n",
      "01:10:18.412    util.BehaviorComponent WARNING  turn_in_place cancelled because behavior control was lost\n",
      "01:10:18.416    util.BehaviorComponent    INFO  Delaying _abort until behavior control is granted\n",
      "01:10:18.424    util.BehaviorComponent    INFO  Delaying turn_in_place until behavior control is granted\n"
     ]
    },
    {
     "name": "stdout",
     "output_type": "stream",
     "text": [
      "sensor_wall 133\n"
     ]
    },
    {
     "name": "stderr",
     "output_type": "stream",
     "text": [
      "01:10:22.482     connection.Connection    INFO  BehaviorControl control_granted_response { }\n"
     ]
    },
    {
     "ename": "KeyboardInterrupt",
     "evalue": "",
     "output_type": "error",
     "traceback": [
      "\u001b[1;31m---------------------------------------------------------------------------\u001b[0m",
      "\u001b[1;31mKeyboardInterrupt\u001b[0m                         Traceback (most recent call last)",
      "\u001b[1;32m<ipython-input-4-dfe5a57623b0>\u001b[0m in \u001b[0;36m<module>\u001b[1;34m\u001b[0m\n\u001b[0;32m    110\u001b[0m         \u001b[1;32mif\u001b[0m \u001b[1;33m(\u001b[0m\u001b[0mdistance\u001b[0m\u001b[1;33m(\u001b[0m\u001b[1;33m)\u001b[0m \u001b[1;33m<\u001b[0m \u001b[1;36m200\u001b[0m\u001b[1;33m)\u001b[0m\u001b[1;33m:\u001b[0m\u001b[1;33m\u001b[0m\u001b[1;33m\u001b[0m\u001b[0m\n\u001b[0;32m    111\u001b[0m             \u001b[0mprint\u001b[0m\u001b[1;33m(\u001b[0m\u001b[1;34m\"sensor_wall\"\u001b[0m\u001b[1;33m,\u001b[0m \u001b[0mdistance\u001b[0m\u001b[1;33m(\u001b[0m\u001b[1;33m)\u001b[0m\u001b[1;33m)\u001b[0m\u001b[1;33m\u001b[0m\u001b[1;33m\u001b[0m\u001b[0m\n\u001b[1;32m--> 112\u001b[1;33m             \u001b[0mcorrectStraigthPath\u001b[0m\u001b[1;33m(\u001b[0m\u001b[1;33m)\u001b[0m\u001b[1;33m\u001b[0m\u001b[1;33m\u001b[0m\u001b[0m\n\u001b[0m\u001b[0;32m    113\u001b[0m         \u001b[1;32melse\u001b[0m\u001b[1;33m:\u001b[0m\u001b[1;33m\u001b[0m\u001b[1;33m\u001b[0m\u001b[0m\n\u001b[0;32m    114\u001b[0m             \u001b[0medgeCheck\u001b[0m\u001b[1;33m(\u001b[0m\u001b[1;33m)\u001b[0m\u001b[1;33m\u001b[0m\u001b[1;33m\u001b[0m\u001b[0m\n",
      "\u001b[1;32m<ipython-input-4-dfe5a57623b0>\u001b[0m in \u001b[0;36mcorrectStraigthPath\u001b[1;34m()\u001b[0m\n\u001b[0;32m     52\u001b[0m         \u001b[0mrobot\u001b[0m\u001b[1;33m.\u001b[0m\u001b[0mbehavior\u001b[0m\u001b[1;33m.\u001b[0m\u001b[0mturn_in_place\u001b[0m\u001b[1;33m(\u001b[0m\u001b[0mdegrees\u001b[0m\u001b[1;33m(\u001b[0m\u001b[1;33m-\u001b[0m\u001b[1;36m90\u001b[0m \u001b[1;33m-\u001b[0m \u001b[0mDegreesCorrectStraightPath\u001b[0m\u001b[1;33m)\u001b[0m\u001b[1;33m)\u001b[0m\u001b[1;33m\u001b[0m\u001b[1;33m\u001b[0m\u001b[0m\n\u001b[0;32m     53\u001b[0m     \u001b[1;32melse\u001b[0m\u001b[1;33m:\u001b[0m\u001b[1;33m\u001b[0m\u001b[1;33m\u001b[0m\u001b[0m\n\u001b[1;32m---> 54\u001b[1;33m         \u001b[0mrobot\u001b[0m\u001b[1;33m.\u001b[0m\u001b[0mbehavior\u001b[0m\u001b[1;33m.\u001b[0m\u001b[0mturn_in_place\u001b[0m\u001b[1;33m(\u001b[0m\u001b[0mdegrees\u001b[0m\u001b[1;33m(\u001b[0m\u001b[1;33m-\u001b[0m\u001b[1;36m90\u001b[0m \u001b[1;33m+\u001b[0m \u001b[0mDegreesCorrectStraightPath\u001b[0m\u001b[1;33m)\u001b[0m\u001b[1;33m)\u001b[0m\u001b[1;33m\u001b[0m\u001b[1;33m\u001b[0m\u001b[0m\n\u001b[0m\u001b[0;32m     55\u001b[0m \u001b[1;33m\u001b[0m\u001b[0m\n\u001b[0;32m     56\u001b[0m \u001b[1;32mdef\u001b[0m \u001b[0medgeCheck\u001b[0m\u001b[1;33m(\u001b[0m\u001b[1;33m)\u001b[0m\u001b[1;33m:\u001b[0m\u001b[1;33m\u001b[0m\u001b[1;33m\u001b[0m\u001b[0m\n",
      "\u001b[1;32m~\\AppData\\Roaming\\Python\\Python38\\site-packages\\anki_vector\\connection.py\u001b[0m in \u001b[0;36mresult\u001b[1;34m(*args, **kwargs)\u001b[0m\n\u001b[0;32m    804\u001b[0m                 \u001b[1;32mreturn\u001b[0m \u001b[0mfuture\u001b[0m\u001b[1;33m\u001b[0m\u001b[1;33m\u001b[0m\u001b[0m\n\u001b[0;32m    805\u001b[0m             \u001b[1;32mtry\u001b[0m\u001b[1;33m:\u001b[0m\u001b[1;33m\u001b[0m\u001b[1;33m\u001b[0m\u001b[0m\n\u001b[1;32m--> 806\u001b[1;33m                 \u001b[1;32mreturn\u001b[0m \u001b[0mfuture\u001b[0m\u001b[1;33m.\u001b[0m\u001b[0mresult\u001b[0m\u001b[1;33m(\u001b[0m\u001b[1;33m)\u001b[0m\u001b[1;33m\u001b[0m\u001b[1;33m\u001b[0m\u001b[0m\n\u001b[0m\u001b[0;32m    807\u001b[0m             \u001b[1;32mexcept\u001b[0m \u001b[0mfutures\u001b[0m\u001b[1;33m.\u001b[0m\u001b[0mCancelledError\u001b[0m\u001b[1;33m:\u001b[0m\u001b[1;33m\u001b[0m\u001b[1;33m\u001b[0m\u001b[0m\n\u001b[0;32m    808\u001b[0m                 \u001b[0mself\u001b[0m\u001b[1;33m.\u001b[0m\u001b[0mlogger\u001b[0m\u001b[1;33m.\u001b[0m\u001b[0mwarning\u001b[0m\u001b[1;33m(\u001b[0m\u001b[1;34mf\"{func.__name__} cancelled because behavior control was lost\"\u001b[0m\u001b[1;33m)\u001b[0m\u001b[1;33m\u001b[0m\u001b[1;33m\u001b[0m\u001b[0m\n",
      "\u001b[1;32mc:\\users\\timfi\\appdata\\local\\programs\\python\\python38\\lib\\concurrent\\futures\\_base.py\u001b[0m in \u001b[0;36mresult\u001b[1;34m(self, timeout)\u001b[0m\n\u001b[0;32m    432\u001b[0m                 \u001b[1;32mreturn\u001b[0m \u001b[0mself\u001b[0m\u001b[1;33m.\u001b[0m\u001b[0m__get_result\u001b[0m\u001b[1;33m(\u001b[0m\u001b[1;33m)\u001b[0m\u001b[1;33m\u001b[0m\u001b[1;33m\u001b[0m\u001b[0m\n\u001b[0;32m    433\u001b[0m \u001b[1;33m\u001b[0m\u001b[0m\n\u001b[1;32m--> 434\u001b[1;33m             \u001b[0mself\u001b[0m\u001b[1;33m.\u001b[0m\u001b[0m_condition\u001b[0m\u001b[1;33m.\u001b[0m\u001b[0mwait\u001b[0m\u001b[1;33m(\u001b[0m\u001b[0mtimeout\u001b[0m\u001b[1;33m)\u001b[0m\u001b[1;33m\u001b[0m\u001b[1;33m\u001b[0m\u001b[0m\n\u001b[0m\u001b[0;32m    435\u001b[0m \u001b[1;33m\u001b[0m\u001b[0m\n\u001b[0;32m    436\u001b[0m             \u001b[1;32mif\u001b[0m \u001b[0mself\u001b[0m\u001b[1;33m.\u001b[0m\u001b[0m_state\u001b[0m \u001b[1;32min\u001b[0m \u001b[1;33m[\u001b[0m\u001b[0mCANCELLED\u001b[0m\u001b[1;33m,\u001b[0m \u001b[0mCANCELLED_AND_NOTIFIED\u001b[0m\u001b[1;33m]\u001b[0m\u001b[1;33m:\u001b[0m\u001b[1;33m\u001b[0m\u001b[1;33m\u001b[0m\u001b[0m\n",
      "\u001b[1;32mc:\\users\\timfi\\appdata\\local\\programs\\python\\python38\\lib\\threading.py\u001b[0m in \u001b[0;36mwait\u001b[1;34m(self, timeout)\u001b[0m\n\u001b[0;32m    300\u001b[0m         \u001b[1;32mtry\u001b[0m\u001b[1;33m:\u001b[0m    \u001b[1;31m# restore state no matter what (e.g., KeyboardInterrupt)\u001b[0m\u001b[1;33m\u001b[0m\u001b[1;33m\u001b[0m\u001b[0m\n\u001b[0;32m    301\u001b[0m             \u001b[1;32mif\u001b[0m \u001b[0mtimeout\u001b[0m \u001b[1;32mis\u001b[0m \u001b[1;32mNone\u001b[0m\u001b[1;33m:\u001b[0m\u001b[1;33m\u001b[0m\u001b[1;33m\u001b[0m\u001b[0m\n\u001b[1;32m--> 302\u001b[1;33m                 \u001b[0mwaiter\u001b[0m\u001b[1;33m.\u001b[0m\u001b[0macquire\u001b[0m\u001b[1;33m(\u001b[0m\u001b[1;33m)\u001b[0m\u001b[1;33m\u001b[0m\u001b[1;33m\u001b[0m\u001b[0m\n\u001b[0m\u001b[0;32m    303\u001b[0m                 \u001b[0mgotit\u001b[0m \u001b[1;33m=\u001b[0m \u001b[1;32mTrue\u001b[0m\u001b[1;33m\u001b[0m\u001b[1;33m\u001b[0m\u001b[0m\n\u001b[0;32m    304\u001b[0m             \u001b[1;32melse\u001b[0m\u001b[1;33m:\u001b[0m\u001b[1;33m\u001b[0m\u001b[1;33m\u001b[0m\u001b[0m\n",
      "\u001b[1;31mKeyboardInterrupt\u001b[0m: "
     ]
    }
   ],
   "source": [
    "# robot.behavior.say_text(\"Connected\")\n",
    "#     robot.viewer.show()\n",
    "#   robot.viewer_3d.show()\n",
    "#robot.behavior.say_text(\"i t coming home\")\n",
    "\n",
    "print(\"connected---------------------------------------------------------------\")\n",
    "battery_state = robot.get_battery_state()\n",
    "print(\"Robot battery Level: {0}\".format(battery_state.battery_level))\n",
    "\n",
    "robot.behavior.set_head_angle(degrees(-5.0))\n",
    "print(\"Head Angle Set\")\n",
    "robot.behavior.set_lift_height(0.0)\n",
    "print(\"Lift Height Set\")\n",
    "\n",
    "Ausgang = False\n",
    "counter = 0\n",
    "abort = 0\n",
    "returnFromWall = False\n",
    "angle = 0\n",
    "\n",
    "# Constants\n",
    "IntervallCheckingDistanceToWall = 5\n",
    "DegreesCorrectStraightPath = 5\n",
    "\n",
    "\n",
    "print (\"Pose of robot\", robot.pose)\n",
    "print (\"X, Y coordinates: \", robot.pose.position.x, robot.pose.position.y)\n",
    "\n",
    "def distance():\n",
    "    return int(robot.proximity.last_sensor_reading.distance.distance_mm)\n",
    "\n",
    "def moveForward(dist):\n",
    "    i = 0\n",
    "    robot.motors.set_wheel_motors(200, 200)\n",
    "    while i < dist and distance() >= 180:\n",
    "        i += 1\n",
    "        time.sleep(0.1)\n",
    "    robot.motors.stop_all_motors()\n",
    "\n",
    "    \n",
    "    \n",
    "#def moveForward(dist):\n",
    "#    while distance() >= 180:\n",
    "#        robot.motors.set_wheel_motors(200, 200)\n",
    "#    except:\n",
    "#        robot.motors.stop_all_motors()\n",
    "\n",
    "        \n",
    "\n",
    "def correctStraigthPath():\n",
    "    if (distance() < 100):\n",
    "        robot.behavior.turn_in_place(degrees(-90 - DegreesCorrectStraightPath))\n",
    "    else:\n",
    "        robot.behavior.turn_in_place(degrees(-90 + DegreesCorrectStraightPath)) \n",
    "        \n",
    "def edgeCheck():\n",
    "    angel_ref = robot.pose_angle_rad\n",
    "    print(angel_ref)\n",
    "\n",
    "    robot.behavior.drive_straight(distance_mm(100), speed_mmps(200))\n",
    "    time.sleep(1)\n",
    "\n",
    "    angel_new = robot.pose_angle_rad\n",
    "    print(angel_new)\n",
    "\n",
    "    fehler_winkel = (angel_ref - angel_new) * 57.3\n",
    "    print (fehler_winkel)\n",
    "    \n",
    "    if ((fehler_winkel > 4 or fehler_winkel < -4) and fehler_winkel<100 and fehler_winkel>-100):\n",
    "        robot.behavior.drive_straight(distance_mm(-80), speed_mmps(200))\n",
    "        robot.behavior.turn_in_place(degrees(fehler_winkel))\n",
    "        \n",
    "        \n",
    "            \n",
    "#def turnAbsolute(a):\n",
    "#    nonlocal angle\n",
    "#    angle += a\n",
    "#    robot.behavior.turn_in_place(degrees(angle), absolute=True)\n",
    "            \n",
    "while Ausgang is False:\n",
    "    robot.behavior.set_head_angle(degrees(-5.0))\n",
    "    robot.behavior.set_lift_height(0.0)\n",
    "\n",
    "    #print(\"sensor_straight\", distance())\n",
    "    #print(\"counter_main\", counter)\n",
    "    #print(\"Angle: \", robot.pose_angle_rad)\n",
    "    #print (\"Pose: \", robot.pose)\n",
    "    #print(angle)\n",
    "    \n",
    "    if (distance() >= 150 and counter == 0):        #go!\n",
    "        print (\"1\")\n",
    "        while (distance() >= 150):\n",
    "            robot.motors.set_wheel_motors(200, 200)\n",
    "        else:\n",
    "            robot.motors.stop_all_motors()\n",
    "            print(\"Stop\")\n",
    "\n",
    "    if (distance() < 150):                         #turn and counter +1\n",
    "        print (\"2\")\n",
    "        robot.behavior.turn_in_place(degrees(-90))\n",
    "        counter = counter + 1\n",
    "        print(\"counter_+1\", counter)\n",
    "\n",
    "    if (distance() >= 150 and counter != 0):       #check if i can turn back\n",
    "        print (\"3\")\n",
    "        #robot.behavior.drive_straight(distance_mm(200), speed_mmps(200))\n",
    "        moveForward(IntervallCheckingDistanceToWall)\n",
    "        robot.behavior.turn_in_place(degrees(90))\n",
    "        # Checking distance to wall\n",
    "        if (distance() < 200):\n",
    "            print(\"sensor_wall\", distance())\n",
    "            correctStraigthPath()\n",
    "        else:\n",
    "            edgeCheck()\n",
    "            counter = counter - 1\n",
    "            print(\"counter -1\", counter)"
   ]
  },
  {
   "cell_type": "code",
   "execution_count": null,
   "metadata": {},
   "outputs": [],
   "source": [
    "angel_ref = robot.pose_angle_rad\n",
    "print(angel_ref)\n",
    "\n",
    "robot.behavior.drive_straight(distance_mm(200), speed_mmps(200))\n",
    "#robot.behavior.turn_in_place(degrees(-90))\n",
    "time.sleep(1)\n",
    "\n",
    "angel_new = robot.pose_angle_rad\n",
    "print(angel_new)\n",
    "\n",
    "fehler_winkel = (angel_ref-angel_new)*57.3\n",
    "print (fehler_winkel)\n",
    "if (fehler_winkel<100 and fehler_winkel>-100):\n",
    "  robot.behavior.turn_in_place(degrees(fehler_winkel))\n"
   ]
  },
  {
   "cell_type": "code",
   "execution_count": null,
   "metadata": {},
   "outputs": [],
   "source": [
    "print(robot.pose_angle_rad)"
   ]
  },
  {
   "cell_type": "code",
   "execution_count": null,
   "metadata": {},
   "outputs": [],
   "source": []
  }
 ],
 "metadata": {
  "kernelspec": {
   "display_name": "Python 3",
   "language": "python",
   "name": "python3"
  },
  "language_info": {
   "codemirror_mode": {
    "name": "ipython",
    "version": 3
   },
   "file_extension": ".py",
   "mimetype": "text/x-python",
   "name": "python",
   "nbconvert_exporter": "python",
   "pygments_lexer": "ipython3",
   "version": "3.8.1"
  }
 },
 "nbformat": 4,
 "nbformat_minor": 4
}
