{
 "cells": [
  {
   "cell_type": "markdown",
   "metadata": {},
   "source": [
    "# First Setup"
   ]
  },
  {
   "cell_type": "code",
   "execution_count": null,
   "metadata": {},
   "outputs": [],
   "source": [
    "import anki_vector\n",
    "from anki_vector.util import degrees, distance_mm, speed_mmps"
   ]
  },
  {
   "cell_type": "markdown",
   "metadata": {},
   "source": [
    "Setup and connect to robot"
   ]
  },
  {
   "cell_type": "code",
   "execution_count": null,
   "metadata": {},
   "outputs": [],
   "source": [
    "robot = anki_vector.Robot()"
   ]
  },
  {
   "cell_type": "code",
   "execution_count": null,
   "metadata": {},
   "outputs": [],
   "source": [
    "robot.connect()\n"
   ]
  },
  {
   "cell_type": "markdown",
   "metadata": {},
   "source": [
    "Test connection"
   ]
  },
  {
   "cell_type": "code",
   "execution_count": null,
   "metadata": {},
   "outputs": [],
   "source": [
    "robot.behavior.say_text(\"Hello\")"
   ]
  },
  {
   "cell_type": "markdown",
   "metadata": {},
   "source": [
    "Test proximity sensor"
   ]
  },
  {
   "cell_type": "code",
   "execution_count": null,
   "metadata": {},
   "outputs": [],
   "source": [
    "distance = robot.proximity.last_sensor_reading.distance\n",
    "print (\"Distance: \", distance)\n",
    "print (\"Distance (mm): \", distance.distance_mm)"
   ]
  },
  {
   "cell_type": "markdown",
   "metadata": {},
   "source": [
    "Stop 5cm in front of obstacle"
   ]
  },
  {
   "cell_type": "code",
   "execution_count": null,
   "metadata": {},
   "outputs": [],
   "source": [
    "robot.behavior.drive_straight(distance_mm(100), speed_mmps(100))"
   ]
  },
  {
   "cell_type": "code",
   "execution_count": null,
   "metadata": {},
   "outputs": [],
   "source": [
    "while robot.proximity.last_sensor_reading.distance.distance_mm > 100:\n",
    "  print(robot.proximity.last_sensor_reading.distance.distance_mm)\n",
    "  robot.behavior.drive_straight(distance_mm(30), speed_mmps(100))\n",
    "print (\"Fertig! Abstand: \", robot.proximity.last_sensor_reading.distance.distance_mm)"
   ]
  },
  {
   "cell_type": "markdown",
   "metadata": {},
   "source": [
    "Automatisches Abstand halten zur Wand"
   ]
  },
  {
   "cell_type": "code",
   "execution_count": null,
   "metadata": {},
   "outputs": [],
   "source": [
    "class Greeting:\n",
    "    a = \"Tim\"\n",
    "    def __init__(self, name):\n",
    "        self.name = name\n",
    "    #def __del__(self):\n",
    "    #    print (\"Destruktor gestartet\")\n",
    "    def SayHello(self):\n",
    "        print (\"Guten Tag\", self.name)\n",
    "    def Print(self):\n",
    "        print (self.a)"
   ]
  },
  {
   "cell_type": "code",
   "execution_count": null,
   "metadata": {},
   "outputs": [],
   "source": [
    "x1 = Greeting(\"Guido\")\n",
    "x1.SayHello()\n",
    "x1.Print()"
   ]
  },
  {
   "cell_type": "code",
   "execution_count": null,
   "metadata": {},
   "outputs": [],
   "source": [
    "print(x)"
   ]
  },
  {
   "cell_type": "code",
   "execution_count": null,
   "metadata": {},
   "outputs": [],
   "source": []
  },
  {
   "cell_type": "code",
   "execution_count": 1,
   "metadata": {},
   "outputs": [],
   "source": [
    "class c1:\n",
    "  distance = 0\n",
    "  ref_distance = 0\n",
    "  distance_front = 0\n",
    "    \n",
    "  def init(self):\n",
    "    robot.behavior.turn_in_place(degrees(90))\n",
    "    self.ref_distance = robot.proximity.last_sensor_reading.distance.distance_mm\n",
    "    robot.behavior.turn_in_place(degrees(-90))\n",
    "    \n",
    "    self.distance_front = robot.proximity.last_sensor_reading.distance.distance_mm\n",
    "\n",
    "    print (\"ref_distance:\", self.ref_distance) \n",
    "    print (\"distance_front:\", self.distance_front)\n",
    "\n",
    "    \n",
    "  def wallfollow(self):\n",
    "    robot.behavior.drive_straight(distance_mm(50), speed_mmps(150))\n",
    "    robot.behavior.turn_in_place(degrees(90))\n",
    "    self.distance = robot.proximity.last_sensor_reading.distance.distance_mm\n",
    "    print (\"distance\", self.distance)\n",
    "    \n",
    "    if ((self.ref_distance - self.distance)>0):\n",
    "      robot.behavior.turn_in_place(degrees(-93))\n",
    "    else:\n",
    "      robot.behavior.turn_in_place(degrees(-87))  \n",
    "\n",
    "  def turn(self):\n",
    "    robot.behavior.turn_in_place(degrees(-90))\n",
    "\n",
    "  def new_ref(self): \n",
    "    robot.behavior.drive_straight(distance_mm(50), speed_mmps(150))\n",
    "    robot.behavior.turn_in_place(degrees(90))\n",
    "    self.ref_distance = robot.proximity.last_sensor_reading.distance.distance_mm\n",
    "    robot.behavior.turn_in_place(degrees(-90))  "
   ]
  },
  {
   "cell_type": "code",
   "execution_count": null,
   "metadata": {},
   "outputs": [],
   "source": [
    "ob = c1()\n",
    "\n",
    "ob.init()\n",
    "while (ob.distance_front > 100):\n",
    "  ob.wallfollow()\n",
    "else\n",
    "  ob.turn()\n",
    "  ob.new_ref()"
   ]
  },
  {
   "cell_type": "code",
   "execution_count": null,
   "metadata": {},
   "outputs": [],
   "source": []
  },
  {
   "cell_type": "code",
   "execution_count": null,
   "metadata": {},
   "outputs": [],
   "source": []
  },
  {
   "cell_type": "code",
   "execution_count": null,
   "metadata": {},
   "outputs": [],
   "source": []
  },
  {
   "cell_type": "code",
   "execution_count": null,
   "metadata": {},
   "outputs": [],
   "source": []
  },
  {
   "cell_type": "code",
   "execution_count": null,
   "metadata": {},
   "outputs": [],
   "source": []
  },
  {
   "cell_type": "code",
   "execution_count": null,
   "metadata": {},
   "outputs": [],
   "source": []
  },
  {
   "cell_type": "markdown",
   "metadata": {},
   "source": [
    "Read map"
   ]
  },
  {
   "cell_type": "code",
   "execution_count": null,
   "metadata": {},
   "outputs": [],
   "source": [
    "#robot.disconnect()"
   ]
  },
  {
   "cell_type": "markdown",
   "metadata": {},
   "source": [
    "Receive map"
   ]
  },
  {
   "cell_type": "code",
   "execution_count": null,
   "metadata": {},
   "outputs": [],
   "source": [
    "with anki_vector.Robot(enable_nav_map_feed=True) as robot:\n",
    "        # Make sure Vector drives around so the nav map will update\n",
    "        robot.behavior.drive_off_charger()\n",
    "        robot.motors.set_wheel_motors(-100, 100)\n",
    "        latest_nav_map = robot.nav_map.latest_nav_map"
   ]
  },
  {
   "cell_type": "markdown",
   "metadata": {},
   "source": [
    "Serialize map"
   ]
  },
  {
   "cell_type": "code",
   "execution_count": null,
   "metadata": {},
   "outputs": [],
   "source": []
  },
  {
   "cell_type": "code",
   "execution_count": null,
   "metadata": {},
   "outputs": [],
   "source": []
  }
 ],
 "metadata": {
  "kernelspec": {
   "display_name": "Python 3",
   "language": "python",
   "name": "python3"
  },
  "language_info": {
   "codemirror_mode": {
    "name": "ipython",
    "version": 3
   },
   "file_extension": ".py",
   "mimetype": "text/x-python",
   "name": "python",
   "nbconvert_exporter": "python",
   "pygments_lexer": "ipython3",
   "version": "3.7.0"
  }
 },
 "nbformat": 4,
 "nbformat_minor": 2
}
